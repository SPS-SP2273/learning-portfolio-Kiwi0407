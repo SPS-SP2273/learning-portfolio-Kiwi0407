{
 "cells": [
  {
   "cell_type": "markdown",
   "id": "123456",
   "metadata": {},
   "source": [
    "<div style=\"text-align:left;font-size:2em\"><span style=\"font-weight:bolder;font-size:1.25em\">SP2273 | Learning Portfolio</span><br><br><span style=\"font-weight:bold;color:darkred\">Just Exercises (I)</span></div>"
   ]
  },
  {
   "cell_type": "markdown",
   "id": "ab4dbf96",
   "metadata": {},
   "source": [
    "## Exercise 1 :  F-strings to the rescue"
   ]
  },
  {
   "cell_type": "markdown",
   "id": "1268591c",
   "metadata": {},
   "source": [
    "write snippet of code to print out this:\n",
    "\n",
    " 00001\n",
    " 00002\n",
    " 00003\n",
    " 00004\n",
    " 00005\n",
    " 00006\n",
    " 00007\n",
    " 00008\n",
    " 00009\n",
    " 00010"
   ]
  },
  {
   "cell_type": "code",
   "execution_count": 72,
   "id": "de5c3750",
   "metadata": {},
   "outputs": [],
   "source": [
    "#for i in range(1, 11):\n",
    "#   print(str(i).zfill(5))"
   ]
  },
  {
   "cell_type": "code",
   "execution_count": 71,
   "id": "b69e3ab7",
   "metadata": {},
   "outputs": [
    {
     "name": "stdout",
     "output_type": "stream",
     "text": [
      "00001\n",
      "00002\n",
      "00003\n",
      "00004\n",
      "00005\n",
      "00006\n",
      "00007\n",
      "00008\n",
      "00009\n",
      "00010\n"
     ]
    }
   ],
   "source": [
    "for i in range(1, 11):\n",
    "    print(f\"{i:0>5}\")"
   ]
  },
  {
   "cell_type": "markdown",
   "id": "6ec458bf",
   "metadata": {},
   "source": [
    "write snippet of code to print out this:\n",
    "\n",
    " 001          +\n",
    " 002         ++\n",
    " 003        +++\n",
    " 004       ++++\n",
    " 005      +++++\n",
    " 006     ++++++\n",
    " 007    +++++++\n",
    " 008   ++++++++\n",
    " 009  +++++++++\n",
    " 010 ++++++++++\n",
    " \n",
    " hint: check out what '+'*5 does"
   ]
  },
  {
   "cell_type": "code",
   "execution_count": 62,
   "id": "59bfadf9",
   "metadata": {},
   "outputs": [
    {
     "name": "stdout",
     "output_type": "stream",
     "text": [
      "5\n"
     ]
    }
   ],
   "source": [
    "#print(x)"
   ]
  },
  {
   "cell_type": "code",
   "execution_count": 68,
   "id": "ccb7c7a2",
   "metadata": {},
   "outputs": [
    {
     "name": "stdout",
     "output_type": "stream",
     "text": [
      "iiiiii5 ppppp7ppppp\n"
     ]
    }
   ],
   "source": [
    "#x = 5\n",
    "#y = 7\n",
    "#print(f\"{x:i>7} {y:p^11}\")\n",
    "# < ^ > to slot to the left, middle and to the right"
   ]
  },
  {
   "cell_type": "code",
   "execution_count": 73,
   "id": "92bc4d0d",
   "metadata": {},
   "outputs": [],
   "source": [
    "#for i in range(1, 11):\n",
    "#    numbers = str(i). zfill(3)\n",
    "#    space = \" \" * (10 - i)\n",
    "#    plus = str('+'* i)\n",
    "#    print(numbers, space, plus)"
   ]
  },
  {
   "cell_type": "code",
   "execution_count": 84,
   "id": "f77f1ff8",
   "metadata": {},
   "outputs": [
    {
     "name": "stdout",
     "output_type": "stream",
     "text": [
      "001          +\n",
      "002         ++\n",
      "003        +++\n",
      "004       ++++\n",
      "005      +++++\n",
      "006     ++++++\n",
      "007    +++++++\n",
      "008   ++++++++\n",
      "009  +++++++++\n",
      "010 ++++++++++\n"
     ]
    }
   ],
   "source": [
    "for i in range(1, 11):\n",
    "    print(f\"{i:0>3} {'+'*i: >10}\")"
   ]
  },
  {
   "cell_type": "markdown",
   "id": "49974daa",
   "metadata": {},
   "source": [
    "write snippet of code to print out this:\n",
    "\n",
    " 001 -+++++++++\n",
    " 002 --++++++++\n",
    " 003 ---+++++++\n",
    " 004 ----++++++\n",
    " 005 -----+++++\n",
    " 006 ------++++\n",
    " 007 -------+++\n",
    " 008 --------++\n",
    " 009 ---------+\n",
    " 010 ----------"
   ]
  },
  {
   "cell_type": "code",
   "execution_count": 85,
   "id": "b69a096f",
   "metadata": {},
   "outputs": [],
   "source": [
    "#for i in range(1, 11):\n",
    "#    numbers = str(i). zfill(3)\n",
    "#    minus = str('-' * i)\n",
    "#    plus = str('+' * (10 - i))\n",
    "#    print(numbers, minus, plus)"
   ]
  },
  {
   "cell_type": "code",
   "execution_count": 96,
   "id": "e16efaf0",
   "metadata": {},
   "outputs": [
    {
     "name": "stdout",
     "output_type": "stream",
     "text": [
      "001 -+++++++++\n",
      "002 --++++++++\n",
      "003 ---+++++++\n",
      "004 ----++++++\n",
      "005 -----+++++\n",
      "006 ------++++\n",
      "007 -------+++\n",
      "008 --------++\n",
      "009 ---------+\n",
      "010 ----------\n"
     ]
    }
   ],
   "source": [
    "for i in range(1, 11):\n",
    "    print(f\"{i:0>3} {'-'*i}{'+'*(10 - i)}\")"
   ]
  },
  {
   "cell_type": "markdown",
   "id": "bd460e8c",
   "metadata": {},
   "source": [
    "create various text (.txt) files to hold informaiton about Bruce, Natasha and Tony. Information is related to exploits, enemies and friends. Write snippet of code to produce this list:\n",
    "\n",
    "['bruce_exploits.txt', 'bruce_enemies.txt', 'bruce_friends.txt',\n",
    " 'natasha_exploits.txt', 'natasha_enemies.txt', 'natasha_friends.txt',\n",
    " 'tony_exploits.txt', 'tony_enemies.txt', 'tony_friends.txt']\n",
    "\n",
    "hint: use **two** `for` loops. One inside the other"
   ]
  },
  {
   "cell_type": "code",
   "execution_count": 108,
   "id": "828fb937",
   "metadata": {},
   "outputs": [
    {
     "name": "stdout",
     "output_type": "stream",
     "text": [
      "['bruce_exploits.txt', 'bruce_enemies.txt', 'bruce_friends.txt', 'natasha_exploits.txt', 'natasha_enemies.txt', 'natasha_friends.txt', 'tony_exploits.txt', 'tony_enemies.txt', 'tony_friends.txt']\n"
     ]
    }
   ],
   "source": [
    "# attempt 1 :P\n",
    "\n",
    "names = ['bruce', 'natasha', 'tony']\n",
    "information = ['_exploits', '_enemies', '_friends']\n",
    "\n",
    "answer = []\n",
    "for i in names:\n",
    "    for x in information:\n",
    "        answer.append(f\"{i}{x}.txt\")\n",
    "        \n",
    "print(answer)"
   ]
  },
  {
   "cell_type": "markdown",
   "id": "b1b2c812",
   "metadata": {},
   "source": [
    "3 countries: Singapore (SG), Britain (GB) and US\n",
    "each country run 3 experiments (exp-01, exp-02, exp-03) 50 times\n",
    "Task: create list of files shown:\n",
    "\n",
    "['data_sg_exp-01_trial-001.txt',\n",
    " 'data_sg_exp-01_trial-002.txt',\n",
    " 'data_sg_exp-01_trial-003.txt',\n",
    " ...\n",
    " 'data_sg_exp-03_trial-048.txt',\n",
    " 'data_sg_exp-03_trial-049.txt',\n",
    " 'data_sg_exp-03_trial-050.txt'\n",
    " ...\n",
    " 'data_gb_exp-01_trial-001.txt',\n",
    " 'data_gb_exp-01_trial-002.txt',\n",
    " 'data_gb_exp-01_trial-003.txt',\n",
    " ...\n",
    " 'data_gb_exp-03_trial-048.txt',\n",
    " 'data_gb_exp-03_trial-049.txt',\n",
    " 'data_gb_exp-03_trial-050.txt'\n",
    " ...\n",
    " 'data_us_exp-01_trial-001.txt',\n",
    " 'data_us_exp-01_trial-002.txt',\n",
    " 'data_us_exp-01_trial-003.txt',\n",
    " ...\n",
    " 'data_us_exp-03_trial-048.txt',\n",
    " 'data_us_exp-03_trial-049.txt',\n",
    " 'data_us_exp-03_trial-050.txt'\n",
    "]"
   ]
  },
  {
   "cell_type": "code",
   "execution_count": 124,
   "id": "039ba146",
   "metadata": {},
   "outputs": [
    {
     "name": "stdout",
     "output_type": "stream",
     "text": [
      "['data_sg_exp-01_trial-001.txt', 'data_sg_exp-01_trial-002.txt', 'data_sg_exp-01_trial-003.txt', 'data_sg_exp-01_trial-004.txt', 'data_sg_exp-01_trial-005.txt', 'data_sg_exp-01_trial-006.txt', 'data_sg_exp-01_trial-007.txt', 'data_sg_exp-01_trial-008.txt', 'data_sg_exp-01_trial-009.txt', 'data_sg_exp-01_trial-010.txt', 'data_sg_exp-01_trial-011.txt', 'data_sg_exp-01_trial-012.txt', 'data_sg_exp-01_trial-013.txt', 'data_sg_exp-01_trial-014.txt', 'data_sg_exp-01_trial-015.txt', 'data_sg_exp-01_trial-016.txt', 'data_sg_exp-01_trial-017.txt', 'data_sg_exp-01_trial-018.txt', 'data_sg_exp-01_trial-019.txt', 'data_sg_exp-01_trial-020.txt', 'data_sg_exp-01_trial-021.txt', 'data_sg_exp-01_trial-022.txt', 'data_sg_exp-01_trial-023.txt', 'data_sg_exp-01_trial-024.txt', 'data_sg_exp-01_trial-025.txt', 'data_sg_exp-01_trial-026.txt', 'data_sg_exp-01_trial-027.txt', 'data_sg_exp-01_trial-028.txt', 'data_sg_exp-01_trial-029.txt', 'data_sg_exp-01_trial-030.txt', 'data_sg_exp-01_trial-031.txt', 'data_sg_exp-01_trial-032.txt', 'data_sg_exp-01_trial-033.txt', 'data_sg_exp-01_trial-034.txt', 'data_sg_exp-01_trial-035.txt', 'data_sg_exp-01_trial-036.txt', 'data_sg_exp-01_trial-037.txt', 'data_sg_exp-01_trial-038.txt', 'data_sg_exp-01_trial-039.txt', 'data_sg_exp-01_trial-040.txt', 'data_sg_exp-01_trial-041.txt', 'data_sg_exp-01_trial-042.txt', 'data_sg_exp-01_trial-043.txt', 'data_sg_exp-01_trial-044.txt', 'data_sg_exp-01_trial-045.txt', 'data_sg_exp-01_trial-046.txt', 'data_sg_exp-01_trial-047.txt', 'data_sg_exp-01_trial-048.txt', 'data_sg_exp-01_trial-049.txt', 'data_sg_exp-01_trial-050.txt', 'data_sg_exp-02_trial-001.txt', 'data_sg_exp-02_trial-002.txt', 'data_sg_exp-02_trial-003.txt', 'data_sg_exp-02_trial-004.txt', 'data_sg_exp-02_trial-005.txt', 'data_sg_exp-02_trial-006.txt', 'data_sg_exp-02_trial-007.txt', 'data_sg_exp-02_trial-008.txt', 'data_sg_exp-02_trial-009.txt', 'data_sg_exp-02_trial-010.txt', 'data_sg_exp-02_trial-011.txt', 'data_sg_exp-02_trial-012.txt', 'data_sg_exp-02_trial-013.txt', 'data_sg_exp-02_trial-014.txt', 'data_sg_exp-02_trial-015.txt', 'data_sg_exp-02_trial-016.txt', 'data_sg_exp-02_trial-017.txt', 'data_sg_exp-02_trial-018.txt', 'data_sg_exp-02_trial-019.txt', 'data_sg_exp-02_trial-020.txt', 'data_sg_exp-02_trial-021.txt', 'data_sg_exp-02_trial-022.txt', 'data_sg_exp-02_trial-023.txt', 'data_sg_exp-02_trial-024.txt', 'data_sg_exp-02_trial-025.txt', 'data_sg_exp-02_trial-026.txt', 'data_sg_exp-02_trial-027.txt', 'data_sg_exp-02_trial-028.txt', 'data_sg_exp-02_trial-029.txt', 'data_sg_exp-02_trial-030.txt', 'data_sg_exp-02_trial-031.txt', 'data_sg_exp-02_trial-032.txt', 'data_sg_exp-02_trial-033.txt', 'data_sg_exp-02_trial-034.txt', 'data_sg_exp-02_trial-035.txt', 'data_sg_exp-02_trial-036.txt', 'data_sg_exp-02_trial-037.txt', 'data_sg_exp-02_trial-038.txt', 'data_sg_exp-02_trial-039.txt', 'data_sg_exp-02_trial-040.txt', 'data_sg_exp-02_trial-041.txt', 'data_sg_exp-02_trial-042.txt', 'data_sg_exp-02_trial-043.txt', 'data_sg_exp-02_trial-044.txt', 'data_sg_exp-02_trial-045.txt', 'data_sg_exp-02_trial-046.txt', 'data_sg_exp-02_trial-047.txt', 'data_sg_exp-02_trial-048.txt', 'data_sg_exp-02_trial-049.txt', 'data_sg_exp-02_trial-050.txt', 'data_sg_exp-03_trial-001.txt', 'data_sg_exp-03_trial-002.txt', 'data_sg_exp-03_trial-003.txt', 'data_sg_exp-03_trial-004.txt', 'data_sg_exp-03_trial-005.txt', 'data_sg_exp-03_trial-006.txt', 'data_sg_exp-03_trial-007.txt', 'data_sg_exp-03_trial-008.txt', 'data_sg_exp-03_trial-009.txt', 'data_sg_exp-03_trial-010.txt', 'data_sg_exp-03_trial-011.txt', 'data_sg_exp-03_trial-012.txt', 'data_sg_exp-03_trial-013.txt', 'data_sg_exp-03_trial-014.txt', 'data_sg_exp-03_trial-015.txt', 'data_sg_exp-03_trial-016.txt', 'data_sg_exp-03_trial-017.txt', 'data_sg_exp-03_trial-018.txt', 'data_sg_exp-03_trial-019.txt', 'data_sg_exp-03_trial-020.txt', 'data_sg_exp-03_trial-021.txt', 'data_sg_exp-03_trial-022.txt', 'data_sg_exp-03_trial-023.txt', 'data_sg_exp-03_trial-024.txt', 'data_sg_exp-03_trial-025.txt', 'data_sg_exp-03_trial-026.txt', 'data_sg_exp-03_trial-027.txt', 'data_sg_exp-03_trial-028.txt', 'data_sg_exp-03_trial-029.txt', 'data_sg_exp-03_trial-030.txt', 'data_sg_exp-03_trial-031.txt', 'data_sg_exp-03_trial-032.txt', 'data_sg_exp-03_trial-033.txt', 'data_sg_exp-03_trial-034.txt', 'data_sg_exp-03_trial-035.txt', 'data_sg_exp-03_trial-036.txt', 'data_sg_exp-03_trial-037.txt', 'data_sg_exp-03_trial-038.txt', 'data_sg_exp-03_trial-039.txt', 'data_sg_exp-03_trial-040.txt', 'data_sg_exp-03_trial-041.txt', 'data_sg_exp-03_trial-042.txt', 'data_sg_exp-03_trial-043.txt', 'data_sg_exp-03_trial-044.txt', 'data_sg_exp-03_trial-045.txt', 'data_sg_exp-03_trial-046.txt', 'data_sg_exp-03_trial-047.txt', 'data_sg_exp-03_trial-048.txt', 'data_sg_exp-03_trial-049.txt', 'data_sg_exp-03_trial-050.txt', 'data_gb_exp-01_trial-001.txt', 'data_gb_exp-01_trial-002.txt', 'data_gb_exp-01_trial-003.txt', 'data_gb_exp-01_trial-004.txt', 'data_gb_exp-01_trial-005.txt', 'data_gb_exp-01_trial-006.txt', 'data_gb_exp-01_trial-007.txt', 'data_gb_exp-01_trial-008.txt', 'data_gb_exp-01_trial-009.txt', 'data_gb_exp-01_trial-010.txt', 'data_gb_exp-01_trial-011.txt', 'data_gb_exp-01_trial-012.txt', 'data_gb_exp-01_trial-013.txt', 'data_gb_exp-01_trial-014.txt', 'data_gb_exp-01_trial-015.txt', 'data_gb_exp-01_trial-016.txt', 'data_gb_exp-01_trial-017.txt', 'data_gb_exp-01_trial-018.txt', 'data_gb_exp-01_trial-019.txt', 'data_gb_exp-01_trial-020.txt', 'data_gb_exp-01_trial-021.txt', 'data_gb_exp-01_trial-022.txt', 'data_gb_exp-01_trial-023.txt', 'data_gb_exp-01_trial-024.txt', 'data_gb_exp-01_trial-025.txt', 'data_gb_exp-01_trial-026.txt', 'data_gb_exp-01_trial-027.txt', 'data_gb_exp-01_trial-028.txt', 'data_gb_exp-01_trial-029.txt', 'data_gb_exp-01_trial-030.txt', 'data_gb_exp-01_trial-031.txt', 'data_gb_exp-01_trial-032.txt', 'data_gb_exp-01_trial-033.txt', 'data_gb_exp-01_trial-034.txt', 'data_gb_exp-01_trial-035.txt', 'data_gb_exp-01_trial-036.txt', 'data_gb_exp-01_trial-037.txt', 'data_gb_exp-01_trial-038.txt', 'data_gb_exp-01_trial-039.txt', 'data_gb_exp-01_trial-040.txt', 'data_gb_exp-01_trial-041.txt', 'data_gb_exp-01_trial-042.txt', 'data_gb_exp-01_trial-043.txt', 'data_gb_exp-01_trial-044.txt', 'data_gb_exp-01_trial-045.txt', 'data_gb_exp-01_trial-046.txt', 'data_gb_exp-01_trial-047.txt', 'data_gb_exp-01_trial-048.txt', 'data_gb_exp-01_trial-049.txt', 'data_gb_exp-01_trial-050.txt', 'data_gb_exp-02_trial-001.txt', 'data_gb_exp-02_trial-002.txt', 'data_gb_exp-02_trial-003.txt', 'data_gb_exp-02_trial-004.txt', 'data_gb_exp-02_trial-005.txt', 'data_gb_exp-02_trial-006.txt', 'data_gb_exp-02_trial-007.txt', 'data_gb_exp-02_trial-008.txt', 'data_gb_exp-02_trial-009.txt', 'data_gb_exp-02_trial-010.txt', 'data_gb_exp-02_trial-011.txt', 'data_gb_exp-02_trial-012.txt', 'data_gb_exp-02_trial-013.txt', 'data_gb_exp-02_trial-014.txt', 'data_gb_exp-02_trial-015.txt', 'data_gb_exp-02_trial-016.txt', 'data_gb_exp-02_trial-017.txt', 'data_gb_exp-02_trial-018.txt', 'data_gb_exp-02_trial-019.txt', 'data_gb_exp-02_trial-020.txt', 'data_gb_exp-02_trial-021.txt', 'data_gb_exp-02_trial-022.txt', 'data_gb_exp-02_trial-023.txt', 'data_gb_exp-02_trial-024.txt', 'data_gb_exp-02_trial-025.txt', 'data_gb_exp-02_trial-026.txt', 'data_gb_exp-02_trial-027.txt', 'data_gb_exp-02_trial-028.txt', 'data_gb_exp-02_trial-029.txt', 'data_gb_exp-02_trial-030.txt', 'data_gb_exp-02_trial-031.txt', 'data_gb_exp-02_trial-032.txt', 'data_gb_exp-02_trial-033.txt', 'data_gb_exp-02_trial-034.txt', 'data_gb_exp-02_trial-035.txt', 'data_gb_exp-02_trial-036.txt', 'data_gb_exp-02_trial-037.txt', 'data_gb_exp-02_trial-038.txt', 'data_gb_exp-02_trial-039.txt', 'data_gb_exp-02_trial-040.txt', 'data_gb_exp-02_trial-041.txt', 'data_gb_exp-02_trial-042.txt', 'data_gb_exp-02_trial-043.txt', 'data_gb_exp-02_trial-044.txt', 'data_gb_exp-02_trial-045.txt', 'data_gb_exp-02_trial-046.txt', 'data_gb_exp-02_trial-047.txt', 'data_gb_exp-02_trial-048.txt', 'data_gb_exp-02_trial-049.txt', 'data_gb_exp-02_trial-050.txt', 'data_gb_exp-03_trial-001.txt', 'data_gb_exp-03_trial-002.txt', 'data_gb_exp-03_trial-003.txt', 'data_gb_exp-03_trial-004.txt', 'data_gb_exp-03_trial-005.txt', 'data_gb_exp-03_trial-006.txt', 'data_gb_exp-03_trial-007.txt', 'data_gb_exp-03_trial-008.txt', 'data_gb_exp-03_trial-009.txt', 'data_gb_exp-03_trial-010.txt', 'data_gb_exp-03_trial-011.txt', 'data_gb_exp-03_trial-012.txt', 'data_gb_exp-03_trial-013.txt', 'data_gb_exp-03_trial-014.txt', 'data_gb_exp-03_trial-015.txt', 'data_gb_exp-03_trial-016.txt', 'data_gb_exp-03_trial-017.txt', 'data_gb_exp-03_trial-018.txt', 'data_gb_exp-03_trial-019.txt', 'data_gb_exp-03_trial-020.txt', 'data_gb_exp-03_trial-021.txt', 'data_gb_exp-03_trial-022.txt', 'data_gb_exp-03_trial-023.txt', 'data_gb_exp-03_trial-024.txt', 'data_gb_exp-03_trial-025.txt', 'data_gb_exp-03_trial-026.txt', 'data_gb_exp-03_trial-027.txt', 'data_gb_exp-03_trial-028.txt', 'data_gb_exp-03_trial-029.txt', 'data_gb_exp-03_trial-030.txt', 'data_gb_exp-03_trial-031.txt', 'data_gb_exp-03_trial-032.txt', 'data_gb_exp-03_trial-033.txt', 'data_gb_exp-03_trial-034.txt', 'data_gb_exp-03_trial-035.txt', 'data_gb_exp-03_trial-036.txt', 'data_gb_exp-03_trial-037.txt', 'data_gb_exp-03_trial-038.txt', 'data_gb_exp-03_trial-039.txt', 'data_gb_exp-03_trial-040.txt', 'data_gb_exp-03_trial-041.txt', 'data_gb_exp-03_trial-042.txt', 'data_gb_exp-03_trial-043.txt', 'data_gb_exp-03_trial-044.txt', 'data_gb_exp-03_trial-045.txt', 'data_gb_exp-03_trial-046.txt', 'data_gb_exp-03_trial-047.txt', 'data_gb_exp-03_trial-048.txt', 'data_gb_exp-03_trial-049.txt', 'data_gb_exp-03_trial-050.txt', 'data_us_exp-01_trial-001.txt', 'data_us_exp-01_trial-002.txt', 'data_us_exp-01_trial-003.txt', 'data_us_exp-01_trial-004.txt', 'data_us_exp-01_trial-005.txt', 'data_us_exp-01_trial-006.txt', 'data_us_exp-01_trial-007.txt', 'data_us_exp-01_trial-008.txt', 'data_us_exp-01_trial-009.txt', 'data_us_exp-01_trial-010.txt', 'data_us_exp-01_trial-011.txt', 'data_us_exp-01_trial-012.txt', 'data_us_exp-01_trial-013.txt', 'data_us_exp-01_trial-014.txt', 'data_us_exp-01_trial-015.txt', 'data_us_exp-01_trial-016.txt', 'data_us_exp-01_trial-017.txt', 'data_us_exp-01_trial-018.txt', 'data_us_exp-01_trial-019.txt', 'data_us_exp-01_trial-020.txt', 'data_us_exp-01_trial-021.txt', 'data_us_exp-01_trial-022.txt', 'data_us_exp-01_trial-023.txt', 'data_us_exp-01_trial-024.txt', 'data_us_exp-01_trial-025.txt', 'data_us_exp-01_trial-026.txt', 'data_us_exp-01_trial-027.txt', 'data_us_exp-01_trial-028.txt', 'data_us_exp-01_trial-029.txt', 'data_us_exp-01_trial-030.txt', 'data_us_exp-01_trial-031.txt', 'data_us_exp-01_trial-032.txt', 'data_us_exp-01_trial-033.txt', 'data_us_exp-01_trial-034.txt', 'data_us_exp-01_trial-035.txt', 'data_us_exp-01_trial-036.txt', 'data_us_exp-01_trial-037.txt', 'data_us_exp-01_trial-038.txt', 'data_us_exp-01_trial-039.txt', 'data_us_exp-01_trial-040.txt', 'data_us_exp-01_trial-041.txt', 'data_us_exp-01_trial-042.txt', 'data_us_exp-01_trial-043.txt', 'data_us_exp-01_trial-044.txt', 'data_us_exp-01_trial-045.txt', 'data_us_exp-01_trial-046.txt', 'data_us_exp-01_trial-047.txt', 'data_us_exp-01_trial-048.txt', 'data_us_exp-01_trial-049.txt', 'data_us_exp-01_trial-050.txt', 'data_us_exp-02_trial-001.txt', 'data_us_exp-02_trial-002.txt', 'data_us_exp-02_trial-003.txt', 'data_us_exp-02_trial-004.txt', 'data_us_exp-02_trial-005.txt', 'data_us_exp-02_trial-006.txt', 'data_us_exp-02_trial-007.txt', 'data_us_exp-02_trial-008.txt', 'data_us_exp-02_trial-009.txt', 'data_us_exp-02_trial-010.txt', 'data_us_exp-02_trial-011.txt', 'data_us_exp-02_trial-012.txt', 'data_us_exp-02_trial-013.txt', 'data_us_exp-02_trial-014.txt', 'data_us_exp-02_trial-015.txt', 'data_us_exp-02_trial-016.txt', 'data_us_exp-02_trial-017.txt', 'data_us_exp-02_trial-018.txt', 'data_us_exp-02_trial-019.txt', 'data_us_exp-02_trial-020.txt', 'data_us_exp-02_trial-021.txt', 'data_us_exp-02_trial-022.txt', 'data_us_exp-02_trial-023.txt', 'data_us_exp-02_trial-024.txt', 'data_us_exp-02_trial-025.txt', 'data_us_exp-02_trial-026.txt', 'data_us_exp-02_trial-027.txt', 'data_us_exp-02_trial-028.txt', 'data_us_exp-02_trial-029.txt', 'data_us_exp-02_trial-030.txt', 'data_us_exp-02_trial-031.txt', 'data_us_exp-02_trial-032.txt', 'data_us_exp-02_trial-033.txt', 'data_us_exp-02_trial-034.txt', 'data_us_exp-02_trial-035.txt', 'data_us_exp-02_trial-036.txt', 'data_us_exp-02_trial-037.txt', 'data_us_exp-02_trial-038.txt', 'data_us_exp-02_trial-039.txt', 'data_us_exp-02_trial-040.txt', 'data_us_exp-02_trial-041.txt', 'data_us_exp-02_trial-042.txt', 'data_us_exp-02_trial-043.txt', 'data_us_exp-02_trial-044.txt', 'data_us_exp-02_trial-045.txt', 'data_us_exp-02_trial-046.txt', 'data_us_exp-02_trial-047.txt', 'data_us_exp-02_trial-048.txt', 'data_us_exp-02_trial-049.txt', 'data_us_exp-02_trial-050.txt', 'data_us_exp-03_trial-001.txt', 'data_us_exp-03_trial-002.txt', 'data_us_exp-03_trial-003.txt', 'data_us_exp-03_trial-004.txt', 'data_us_exp-03_trial-005.txt', 'data_us_exp-03_trial-006.txt', 'data_us_exp-03_trial-007.txt', 'data_us_exp-03_trial-008.txt', 'data_us_exp-03_trial-009.txt', 'data_us_exp-03_trial-010.txt', 'data_us_exp-03_trial-011.txt', 'data_us_exp-03_trial-012.txt', 'data_us_exp-03_trial-013.txt', 'data_us_exp-03_trial-014.txt', 'data_us_exp-03_trial-015.txt', 'data_us_exp-03_trial-016.txt', 'data_us_exp-03_trial-017.txt', 'data_us_exp-03_trial-018.txt', 'data_us_exp-03_trial-019.txt', 'data_us_exp-03_trial-020.txt', 'data_us_exp-03_trial-021.txt', 'data_us_exp-03_trial-022.txt', 'data_us_exp-03_trial-023.txt', 'data_us_exp-03_trial-024.txt', 'data_us_exp-03_trial-025.txt', 'data_us_exp-03_trial-026.txt', 'data_us_exp-03_trial-027.txt', 'data_us_exp-03_trial-028.txt', 'data_us_exp-03_trial-029.txt', 'data_us_exp-03_trial-030.txt', 'data_us_exp-03_trial-031.txt', 'data_us_exp-03_trial-032.txt', 'data_us_exp-03_trial-033.txt', 'data_us_exp-03_trial-034.txt', 'data_us_exp-03_trial-035.txt', 'data_us_exp-03_trial-036.txt', 'data_us_exp-03_trial-037.txt', 'data_us_exp-03_trial-038.txt', 'data_us_exp-03_trial-039.txt', 'data_us_exp-03_trial-040.txt', 'data_us_exp-03_trial-041.txt', 'data_us_exp-03_trial-042.txt', 'data_us_exp-03_trial-043.txt', 'data_us_exp-03_trial-044.txt', 'data_us_exp-03_trial-045.txt', 'data_us_exp-03_trial-046.txt', 'data_us_exp-03_trial-047.txt', 'data_us_exp-03_trial-048.txt', 'data_us_exp-03_trial-049.txt', 'data_us_exp-03_trial-050.txt']\n"
     ]
    }
   ],
   "source": [
    "countries = ['_sg', '_gb', '_us']\n",
    "experiment = ['_exp-01', '_exp-02', '_exp-03']\n",
    "\n",
    "data = []\n",
    "for x in countries:\n",
    "    for y in experiment:\n",
    "        for i in range(1,51):\n",
    "            data.append(f\"data{x}{y}_trial-{i:0>3}.txt\")\n",
    "print(data)"
   ]
  },
  {
   "cell_type": "markdown",
   "id": "5b10d552",
   "metadata": {},
   "source": [
    "## Exercise 2 :  Tutti frutti"
   ]
  },
  {
   "cell_type": "code",
   "execution_count": 127,
   "id": "31ff6d77",
   "metadata": {},
   "outputs": [],
   "source": [
    "fruits = [\"apple\", \"banana\", \"pineapple\", \"jackfruit\",\n",
    "        \"peach\", \"durian\", \"watermelon\", \"mango\",\n",
    "        \"strawberry\", \"passionfruit\"]"
   ]
  },
  {
   "cell_type": "markdown",
   "id": "4facf082",
   "metadata": {},
   "source": [
    "1. Are `mango` included in the list?\n",
    "2. Use a `for` loop to print only the starting and ending letters of each of the fruits in the above list.\n",
    "- hint: what can you get with abc[-1]\n",
    "3. Use a `for` loop to print names of fruits in lowercase except for those that start with the letter 'p'; these should be in uppercase\n",
    "4. Include following fruits in list: `[\"dragon fruit\", \"apricots\", \"oranges\"]`\n",
    "- how to append them?\n",
    "- how to prepend them?\n",
    "- how to insert them in middle (i.e. after half the length)\n",
    "5. Use list comprehension to extract only those fruits whose names are longer than eight characters "
   ]
  },
  {
   "cell_type": "code",
   "execution_count": 4,
   "id": "b592fc73",
   "metadata": {},
   "outputs": [
    {
     "data": {
      "text/plain": [
       "True"
      ]
     },
     "execution_count": 4,
     "metadata": {},
     "output_type": "execute_result"
    }
   ],
   "source": [
    "# Your solution here\n",
    "# q1: are mango included in the list?\n",
    "\n",
    "fruits = [\"apple\", \"banana\", \"pineapple\", \"jackfruit\",\n",
    "        \"peach\", \"durian\", \"watermelon\", \"mango\",\n",
    "        \"strawberry\", \"passionfruit\"]\n",
    "\n",
    "\"mango\" in fruits"
   ]
  },
  {
   "cell_type": "code",
   "execution_count": 3,
   "id": "9f4fd610",
   "metadata": {},
   "outputs": [
    {
     "data": {
      "text/plain": [
       "False"
      ]
     },
     "execution_count": 3,
     "metadata": {},
     "output_type": "execute_result"
    }
   ],
   "source": [
    "# to test if it works in false situations\n",
    "\n",
    "fruits = [\"apple\", \"banana\", \"pineapple\", \"jackfruit\",\n",
    "        \"peach\", \"durian\", \"watermelon\",\n",
    "        \"strawberry\", \"passionfruit\"]\n",
    "\n",
    "\"mango\" in fruits"
   ]
  },
  {
   "cell_type": "code",
   "execution_count": 1,
   "id": "9d162ca2",
   "metadata": {},
   "outputs": [
    {
     "name": "stdout",
     "output_type": "stream",
     "text": [
      "a e\n",
      "b a\n",
      "p e\n",
      "j t\n",
      "p h\n",
      "d n\n",
      "w n\n",
      "m o\n",
      "s y\n",
      "p t\n"
     ]
    }
   ],
   "source": [
    "# q2: 'for' loop\n",
    "# only starting and ending letters of each fruit\n",
    "\n",
    "fruits = [\"apple\", \"banana\", \"pineapple\", \"jackfruit\",\n",
    "        \"peach\", \"durian\", \"watermelon\", \"mango\",\n",
    "        \"strawberry\", \"passionfruit\"]\n",
    "\n",
    "for i in fruits:\n",
    "    print(i[0], i[-1])\n",
    "#for end_letter in fruits:\n",
    " #   answer.append(end_letter[-1])\n",
    "\n",
    "#print(answer)"
   ]
  },
  {
   "cell_type": "code",
   "execution_count": 190,
   "id": "949d391e",
   "metadata": {},
   "outputs": [
    {
     "name": "stdout",
     "output_type": "stream",
     "text": [
      "['apple', 'banana', 'PINEAPPLE', 'jackfruit', 'PEACH', 'durian', 'watermelon', 'mango', 'strawberry', 'PASSIONFRUIT']\n"
     ]
    }
   ],
   "source": [
    "# q3: 'for' loop\n",
    "# names in lowercase\n",
    "# name with 'p' in uppercase\n",
    "\n",
    "fruits = [\"apple\", \"banana\", \"pineapple\", \"jackfruit\",\n",
    "        \"peach\", \"durian\", \"watermelon\", \"mango\",\n",
    "        \"strawberry\", \"passionfruit\"]\n",
    "\n",
    "answer = []\n",
    "\n",
    "for start_letter in fruits:\n",
    "    if start_letter[0] == 'p':\n",
    "        answer.append(start_letter.upper())\n",
    "    else:\n",
    "        answer.append(start_letter.lower())\n",
    "\n",
    "print(answer)"
   ]
  },
  {
   "cell_type": "code",
   "execution_count": 8,
   "id": "f62db7a6",
   "metadata": {},
   "outputs": [
    {
     "name": "stdout",
     "output_type": "stream",
     "text": [
      "['apple', 'banana', 'pineapple', 'jackfruit', 'peach', 'durian', 'watermelon', 'mango', 'strawberry', 'passionfruit', 'dragon fruit', 'apricots', 'oranges']\n"
     ]
    }
   ],
   "source": [
    "# q4: include following in list\n",
    "# method 1: using extend()\n",
    "\n",
    "fruits = [\"apple\", \"banana\", \"pineapple\", \"jackfruit\",\n",
    "        \"peach\", \"durian\", \"watermelon\", \"mango\",\n",
    "        \"strawberry\", \"passionfruit\"]\n",
    "\n",
    "new_fruits = [\"dragon fruit\", \"apricots\", \"oranges\"]\n",
    "\n",
    "#for i in new_fruits: \n",
    "# the line above is not necessary\n",
    "\n",
    "fruits.extend(new_fruits)\n",
    "print(fruits)\n",
    "\n",
    "# appending another list will be a nested list"
   ]
  },
  {
   "cell_type": "code",
   "execution_count": 142,
   "id": "e0593c58",
   "metadata": {
    "scrolled": true
   },
   "outputs": [
    {
     "name": "stdout",
     "output_type": "stream",
     "text": [
      "['apple', 'banana', 'pineapple', 'jackfruit', 'peach', 'durian', 'watermelon', 'mango', 'strawberry', 'passionfruit', 'dragon fruit', 'apricots', 'oranges']\n"
     ]
    }
   ],
   "source": [
    "# method 2: + new_fruits\n",
    "\n",
    "fruits = [\"apple\", \"banana\", \"pineapple\", \"jackfruit\",\n",
    "        \"peach\", \"durian\", \"watermelon\", \"mango\",\n",
    "        \"strawberry\", \"passionfruit\"]\n",
    "\n",
    "new_fruits = [\"dragon fruit\", \"apricots\", \"oranges\"]\n",
    "\n",
    "#fruits += new_fruits\n",
    "print(fruits + new_fruits)"
   ]
  },
  {
   "cell_type": "code",
   "execution_count": 200,
   "id": "6fc664d9",
   "metadata": {},
   "outputs": [
    {
     "name": "stdout",
     "output_type": "stream",
     "text": [
      "['dragon fruit', 'apricots', 'oranges', 'apple', 'banana', 'pineapple', 'jackfruit', 'peach', 'durian', 'watermelon', 'mango', 'strawberry', 'passionfruit']\n"
     ]
    }
   ],
   "source": [
    "# prepending them\n",
    "\n",
    "fruits = [\"apple\", \"banana\", \"pineapple\", \"jackfruit\",\n",
    "        \"peach\", \"durian\", \"watermelon\", \"mango\",\n",
    "        \"strawberry\", \"passionfruit\"]\n",
    "\n",
    "new_fruits = [\"dragon fruit\", \"apricots\", \"oranges\"]\n",
    "\n",
    "fruits = new_fruits + fruits\n",
    "print(fruits)"
   ]
  },
  {
   "cell_type": "code",
   "execution_count": 8,
   "id": "aed6ad3b",
   "metadata": {
    "scrolled": true
   },
   "outputs": [
    {
     "name": "stdout",
     "output_type": "stream",
     "text": [
      "['apple', 'banana', 'pineapple', 'jackfruit', 'peach', ['dragon fruit', 'apricots', 'oranges'], 'durian', 'watermelon', 'mango', 'strawberry', 'passionfruit']\n"
     ]
    }
   ],
   "source": [
    "fruits = [\"apple\", \"banana\", \"pineapple\", \"jackfruit\",\n",
    "        \"peach\", \"durian\", \"watermelon\", \"mango\",\n",
    "        \"strawberry\", \"passionfruit\"]\n",
    "\n",
    "new_fruits = [\"dragon fruit\", \"apricots\", \"oranges\"]\n",
    "\n",
    "fruits.insert(5, new_fruits)\n",
    "print(fruits)\n",
    "\n",
    "# err nested list once again...\n",
    "# this only works if you know the total number of elements\n",
    "# find a way to count number of elements/2?"
   ]
  },
  {
   "cell_type": "code",
   "execution_count": 7,
   "id": "070b1be1",
   "metadata": {},
   "outputs": [
    {
     "name": "stdout",
     "output_type": "stream",
     "text": [
      "['apple', 'banana', 'pineapple', 'jackfruit', 'peach', 'dragon fruit', 'apricots', 'oranges', 'durian', 'watermelon', 'mango', 'strawberry', 'passionfruit']\n"
     ]
    }
   ],
   "source": [
    "fruits = [\"apple\", \"banana\", \"pineapple\", \"jackfruit\",\n",
    "        \"peach\", \"durian\", \"watermelon\", \"mango\",\n",
    "        \"strawberry\", \"passionfruit\"]\n",
    "\n",
    "new_fruits = [\"dragon fruit\", \"apricots\", \"oranges\"]\n",
    "\n",
    "fruits.insert(5, \"dragon fruit\")\n",
    "fruits.insert(6, \"apricots\")\n",
    "fruits.insert(7, \"oranges\")\n",
    "print(fruits)\n",
    "\n",
    "# I feel like this is not very efficient eh D:"
   ]
  },
  {
   "cell_type": "markdown",
   "id": "1cef2132",
   "metadata": {},
   "source": [
    "## Exercise 3 :  Ciao Fibonacci"
   ]
  },
  {
   "cell_type": "markdown",
   "id": "02d0d24f",
   "metadata": {},
   "source": [
    "Fibonacci sequence: starts with 0 and 1 with the following terms being sum of the previous two (an example: `0, 1, 1, 2, 3, 5, 8, 13,...`\n",
    "- starting with list `fibonnaci = [0, 1]` use a `for` loop to add the next 13 numbers into the list\n",
    "\n",
    "- hint: recall reverse indexing"
   ]
  },
  {
   "cell_type": "code",
   "execution_count": 121,
   "id": "a3cc74a2",
   "metadata": {},
   "outputs": [
    {
     "name": "stdout",
     "output_type": "stream",
     "text": [
      "[0, 1, 1, 2, 3, 5, 8, 13, 21, 34, 55, 89, 144, 233, 377]\n"
     ]
    }
   ],
   "source": [
    "# Your solution here\n",
    "\n",
    "fibonnaci = [0, 1]\n",
    "\n",
    "for i in range(2, 15):\n",
    "    fibonnaci.append(fibonnaci[i - 1] + fibonnaci[i - 2])\n",
    "print(fibonnaci)"
   ]
  },
  {
   "cell_type": "code",
   "execution_count": 10,
   "id": "2266b53c",
   "metadata": {},
   "outputs": [
    {
     "name": "stdout",
     "output_type": "stream",
     "text": [
      "[0, 1, 1, 2, 3, 5, 8, 13, 21, 34, 55, 89, 144, 233, 377]\n"
     ]
    }
   ],
   "source": [
    "# updated version\n",
    "# shortening the line\n",
    "\n",
    "fibonnaci = [0, 1]\n",
    "\n",
    "for i in range(2, 15):\n",
    "    fibonnaci.append(sum(fibonnaci[-2:]))\n",
    "print(fibonnaci)"
   ]
  },
  {
   "cell_type": "markdown",
   "id": "a66c3186",
   "metadata": {},
   "source": [
    "## Exercise 4 :  A function for Fibonacci"
   ]
  },
  {
   "cell_type": "markdown",
   "id": "6ceae547",
   "metadata": {},
   "source": [
    "create function called `fibonacci(n)` that returns list of the first `n` numbers in the fibonacci sequence\n",
    "- incorporate any necessary checks, balances and admonishments"
   ]
  },
  {
   "cell_type": "code",
   "execution_count": 124,
   "id": "3c124955",
   "metadata": {},
   "outputs": [
    {
     "name": "stdout",
     "output_type": "stream",
     "text": [
      "[0]\n"
     ]
    }
   ],
   "source": [
    "# Your solution here\n",
    "\n",
    "def fibonnaci(n):\n",
    "    fib_list = [0, 1]\n",
    "    if n >= 2:\n",
    "        #fib_list = [0, 1]\n",
    "        for i in range(2, n):\n",
    "            fib_list.append(fib_list[i - 1] + fib_list[i - 2])\n",
    "        print(fib_list)\n",
    "    elif n == 1:\n",
    "        print(fib_list)\n",
    "    elif n == 0:\n",
    "        fib_list = [0]\n",
    "        print(fib_list)\n",
    "    else:\n",
    "        print(\"n cannot be negative!\")\n",
    "        \n",
    "fibonnaci(0)"
   ]
  },
  {
   "cell_type": "code",
   "execution_count": 7,
   "id": "2477ba5f",
   "metadata": {},
   "outputs": [
    {
     "name": "stdout",
     "output_type": "stream",
     "text": [
      "n cannot be less than 3!\n"
     ]
    }
   ],
   "source": [
    "# checking for if it doesn't work\n",
    "# aka n < 3\n",
    "\n",
    "def fibonnaci(n):\n",
    "    fib_list = [0, 1]\n",
    "    if n >= 2:\n",
    "        #fib_list = [0, 1]\n",
    "        for i in range(2, n):\n",
    "            fib_list.append(fib_list[i - 1] + fib_list[i - 2])\n",
    "        print(fib_list)\n",
    "    elif n == 1:\n",
    "        print(fib_list)\n",
    "    elif n == 0:\n",
    "        fib_list = [0]\n",
    "        print(fib_list)\n",
    "    else:\n",
    "        print(\"n cannot be negative!\")\n",
    "\n",
    "fibonnaci(-1)"
   ]
  },
  {
   "cell_type": "code",
   "execution_count": 9,
   "id": "12d53903",
   "metadata": {},
   "outputs": [
    {
     "name": "stdout",
     "output_type": "stream",
     "text": [
      "[0, 1, 1, 2, 3, 5, 8, 13, 21, 34, 55, 89, 144]\n"
     ]
    }
   ],
   "source": [
    "# checking for if it works\n",
    "# aka n >= 3\n",
    "\n",
    "def fibonnaci(n):\n",
    "    fib_list = [0, 1]\n",
    "    if n >= 2:\n",
    "        #fib_list = [0, 1]\n",
    "        for i in range(2, n):\n",
    "            fib_list.append(fib_list[i - 1] + fib_list[i - 2])\n",
    "        print(fib_list)\n",
    "    elif n == 1:\n",
    "        print(fib_list)\n",
    "    elif n == 0:\n",
    "        fib_list = [0]\n",
    "        print(fib_list)\n",
    "    else:\n",
    "        print(\"n cannot be negative!\")\n",
    "        \n",
    "fibonnaci(13)"
   ]
  },
  {
   "cell_type": "code",
   "execution_count": 145,
   "id": "82b405d9",
   "metadata": {},
   "outputs": [
    {
     "name": "stdout",
     "output_type": "stream",
     "text": [
      "[0, 1, 1, 2, 3, 5, 8, 13, 21, 34]\n"
     ]
    }
   ],
   "source": [
    "# shortening line from previous exercise\n",
    "\n",
    "def fibonnaci(n):\n",
    "    fib_list = [0, 1]\n",
    "    if n >= 2:\n",
    "        for i in range(2, n):\n",
    "            fib_list.append(sum(fib_list[-2:])) # changed here\n",
    "        print(fib_list)\n",
    "    elif n == 1:\n",
    "        print(fib_list)\n",
    "    elif n == 0:\n",
    "        fib_list = [0]\n",
    "        print(fib_list)\n",
    "    else:\n",
    "        print(\"n cannot be negative!\")\n",
    "        \n",
    "fibonnaci(10)"
   ]
  },
  {
   "cell_type": "markdown",
   "id": "37e56265",
   "metadata": {},
   "source": [
    "## Exercise 5 :  max_info() without NumPy"
   ]
  },
  {
   "cell_type": "markdown",
   "id": "a0ebb849",
   "metadata": {},
   "source": [
    "1. create function called `max_info(numbers)` that accepts list and returns maximum value and index (location) of maximum. (But don't use anything from NumPy or max())\n",
    "\n",
    "2. some hints\n",
    "- use `for` to go through list\n",
    "- have variable (`my_max`) to hold largest number encountered\n",
    "- use `if` to ask if current number in loop is bigger than `my_max` and update `my_max` if needed\n",
    "- keep going till list is exhausted\n",
    "- go back and modify code for index\n",
    "1. have another variable, `my_max_index` to hold index of max value\n",
    "2. update `my_max_index` everytime `my_max` is updated\n",
    "\n",
    "- Test function with list: `numbers = [40, 27, 83, 44, 74, 51, 76, 77, 10, 49]`"
   ]
  },
  {
   "cell_type": "code",
   "execution_count": null,
   "id": "0a2a5f45",
   "metadata": {},
   "outputs": [],
   "source": [
    "# testing stuff\n",
    "my_max = 0\n",
    "for i in numbers:"
   ]
  },
  {
   "cell_type": "code",
   "execution_count": 40,
   "id": "4e21cb8e",
   "metadata": {},
   "outputs": [
    {
     "data": {
      "text/plain": [
       "'Max element: 49, Index: 9'"
      ]
     },
     "execution_count": 40,
     "metadata": {},
     "output_type": "execute_result"
    }
   ],
   "source": [
    "# original set of code\n",
    "\n",
    "def max_info(numbers):\n",
    "    for i in range(len(numbers)):\n",
    "        if numbers[i] > numbers[i - 1]:\n",
    "            my_max = numbers[i]\n",
    "            #return my_max\n",
    "            my_max_index = numbers.index(my_max)\n",
    "            return f\"Max element: {my_max}, index: {my_max_index}\"\n",
    "\n",
    "numbers = [40, 27, 83, 44, 74, 51, 76, 77, 10, 49]\n",
    "max_info(numbers)"
   ]
  },
  {
   "cell_type": "code",
   "execution_count": 51,
   "id": "21b0b749",
   "metadata": {},
   "outputs": [
    {
     "data": {
      "text/plain": [
       "'Max value: 83, Index: 2'"
      ]
     },
     "execution_count": 51,
     "metadata": {},
     "output_type": "execute_result"
    }
   ],
   "source": [
    "# updated new codes\n",
    "\n",
    "def max_info(numbers):\n",
    "    my_max = numbers[0]\n",
    "    for i in range(len(numbers)):\n",
    "        if my_max < numbers[i]:\n",
    "            my_max = numbers[i]\n",
    "    my_max_index = numbers.index(my_max)\n",
    "    return f\"Max value: {my_max}, Index: {my_max_index}\"\n",
    "        \n",
    "numbers = [40, 27, 83, 44, 74, 51, 76, 77, 10, 49]\n",
    "max_info(numbers)"
   ]
  },
  {
   "cell_type": "code",
   "execution_count": 51,
   "id": "422d2614",
   "metadata": {},
   "outputs": [],
   "source": [
    "# Your solution here\n",
    "# this one is wrong hoho\n",
    "\n",
    "#def max_info(numbers):\n",
    "#    for my_max in numbers[:, 0]:\n",
    "#        if numbers > 0:\n",
    "#            my_max = numbers\n",
    "#            print(my_max)\n",
    "#        else:\n",
    "#            my_max = 0\n",
    "#            print(my_max)\n",
    "\n",
    "            \n",
    "#numbers = [40, 27, 83, 44, 74, 51, 76, 77, 10, 49]\n",
    "#max_info(numbers)"
   ]
  },
  {
   "cell_type": "markdown",
   "id": "a89eb205",
   "metadata": {},
   "source": [
    "## Exercise 6 :  Take count"
   ]
  },
  {
   "cell_type": "code",
   "execution_count": 74,
   "id": "8605c404",
   "metadata": {
    "scrolled": true
   },
   "outputs": [
    {
     "ename": "NameError",
     "evalue": "name 'AGGCAAGAAGCTAGAATTCTGGCCTGAGTATCTCAGTACAGGCGCAGTCGAATCTTCCGGAATCACATTGCTCGCGCTTAAACCCGCTCTAAACCTTTGAGTAATTCGACGACATTGGGTTCCCTCCGACGCTGTCTGACAACTCTTTAAGATCCTTGGCACGATGTCGATAGACATTGTCCCTGATGACGCCTCACAAG' is not defined",
     "output_type": "error",
     "traceback": [
      "\u001b[1;31m---------------------------------------------------------------------------\u001b[0m",
      "\u001b[1;31mNameError\u001b[0m                                 Traceback (most recent call last)",
      "Cell \u001b[1;32mIn[74], line 1\u001b[0m\n\u001b[1;32m----> 1\u001b[0m \u001b[43mAGGCAAGAAGCTAGAATTCTGGCCTGAGTATCTCAGTACAGGCGCAGTCGAATCTTCCGGAATCACATTGCTCGCGCTTAAACCCGCTCTAAACCTTTGAGTAATTCGACGACATTGGGTTCCCTCCGACGCTGTCTGACAACTCTTTAAGATCCTTGGCACGATGTCGATAGACATTGTCCCTGATGACGCCTCACAAGGTAACCTGGCTCTAGTAGGGTGGTCTTTGCTGCGGAACTTACCACCTGGTGGATCCAAGCACCAGAGGAGTTCGAAGAGGCTGGGGTACCCCCTATTTAGGAAGGGCGAGACTACGGTCACAAATTCCAAATGGCTTCCCTCGATTCATGACGCCAGAATGCCTGGCTGTGCCAATTTGTCGCCTTGCGTCGTTCTGTCAATCTTTACTCGTGTCGTGTTGTGATAAATGACAAACCCTGCACAACGTAGGGCTCACACAAGGGAATCTAGAGTATCCGATACAGGGAGCTTTAGCTTCCGTCCCTTATAGCCTGCCATATTCTTGCGGTAGCACGAGCCTCAGATCTTCTCACTCCGGAAATGGGAGCTTCGACGGTCAAGGGCTAAGACGTCTTCGGGAGAAATACCTAGGCGATGACCCTGAGTGGTTTTCCGCGTATAACTCATCCTGGTTGCAAATGATTACCGTTATAGCCTGGGGATATGCCTCAATTCCGAACCCAGGAGCATCACTCGAGCAATAGCGGTAAAGGAGGCTATTAGCAAAATTGTCACGATAAGCGCCGTTGTAGTGAAATTAAGATACATACATCGTTTAGCACATCACTCTCACGGCGTCTAGAAGCTGATCTTCATATGCTGACTCAGAAGGCTCGGATAATAGAGGACGAAGGTAGTTTACTCATCGCTGCCCCGACTATTACGTGTGCATGATAAAGTCTGACCCTGACGTTCCCAAGCCGAGGCAGAGGGGTTTTACGCTGAATGTCCGCTCTCTGTCGGATGATTTCGGAAGCTG\u001b[49m\n",
      "\u001b[1;31mNameError\u001b[0m: name 'AGGCAAGAAGCTAGAATTCTGGCCTGAGTATCTCAGTACAGGCGCAGTCGAATCTTCCGGAATCACATTGCTCGCGCTTAAACCCGCTCTAAACCTTTGAGTAATTCGACGACATTGGGTTCCCTCCGACGCTGTCTGACAACTCTTTAAGATCCTTGGCACGATGTCGATAGACATTGTCCCTGATGACGCCTCACAAG' is not defined"
     ]
    }
   ],
   "source": [
    "AGGCAAGAAGCTAGAATTCTGGCCTGAGTATCTCAGTACAGGCGCAGTCGAATCTTCCGGAATCACATTGCTCGCGCTTAAACCCGCTCTAAACCTTTGAGTAATTCGACGACATTGGGTTCCCTCCGACGCTGTCTGACAACTCTTTAAGATCCTTGGCACGATGTCGATAGACATTGTCCCTGATGACGCCTCACAAGGTAACCTGGCTCTAGTAGGGTGGTCTTTGCTGCGGAACTTACCACCTGGTGGATCCAAGCACCAGAGGAGTTCGAAGAGGCTGGGGTACCCCCTATTTAGGAAGGGCGAGACTACGGTCACAAATTCCAAATGGCTTCCCTCGATTCATGACGCCAGAATGCCTGGCTGTGCCAATTTGTCGCCTTGCGTCGTTCTGTCAATCTTTACTCGTGTCGTGTTGTGATAAATGACAAACCCTGCACAACGTAGGGCTCACACAAGGGAATCTAGAGTATCCGATACAGGGAGCTTTAGCTTCCGTCCCTTATAGCCTGCCATATTCTTGCGGTAGCACGAGCCTCAGATCTTCTCACTCCGGAAATGGGAGCTTCGACGGTCAAGGGCTAAGACGTCTTCGGGAGAAATACCTAGGCGATGACCCTGAGTGGTTTTCCGCGTATAACTCATCCTGGTTGCAAATGATTACCGTTATAGCCTGGGGATATGCCTCAATTCCGAACCCAGGAGCATCACTCGAGCAATAGCGGTAAAGGAGGCTATTAGCAAAATTGTCACGATAAGCGCCGTTGTAGTGAAATTAAGATACATACATCGTTTAGCACATCACTCTCACGGCGTCTAGAAGCTGATCTTCATATGCTGACTCAGAAGGCTCGGATAATAGAGGACGAAGGTAGTTTACTCATCGCTGCCCCGACTATTACGTGTGCATGATAAAGTCTGACCCTGACGTTCCCAAGCCGAGGCAGAGGGGTTTTACGCTGAATGTCCGCTCTCTGTCGGATGATTTCGGAAGCTG"
   ]
  },
  {
   "cell_type": "markdown",
   "id": "b25cf3b4",
   "metadata": {},
   "source": [
    "1. split dna sequence above into a list of letters (A, C, T, G)\n",
    "2. use a `for` loop together with a variable to keep count, determine how many T are present?\n",
    "3. count T using list comprehension\n",
    "4. use a `for` loop to count number of A, C, T, G in list and use dictionary to store various counts (No NumPy)\n",
    "5. use NumPy's `np.unique()` method (with `return_counts = True`) to get NumPy to do counting\n",
    "6. use subsetting to split above dna sequences into words with four letters each\n",
    "\n",
    "\n"
   ]
  },
  {
   "cell_type": "code",
   "execution_count": 34,
   "id": "1a350059",
   "metadata": {},
   "outputs": [
    {
     "name": "stdout",
     "output_type": "stream",
     "text": [
      "{'A': 247, 'C': 250, 'G': 249, 'T': 254}\n"
     ]
    }
   ],
   "source": [
    "# Your solution here\n",
    "\n",
    "my_dna = list('AGGCAAGAAGCTAGAATTCTGGCCTGAGTATCTCAGTACAGGCGCAGTCGAATCTTCCGGAATCACATTGCTCGCGCTTAAACCCGCTCTAAACCTTTGAGTAATTCGACGACATTGGGTTCCCTCCGACGCTGTCTGACAACTCTTTAAGATCCTTGGCACGATGTCGATAGACATTGTCCCTGATGACGCCTCACAAGGTAACCTGGCTCTAGTAGGGTGGTCTTTGCTGCGGAACTTACCACCTGGTGGATCCAAGCACCAGAGGAGTTCGAAGAGGCTGGGGTACCCCCTATTTAGGAAGGGCGAGACTACGGTCACAAATTCCAAATGGCTTCCCTCGATTCATGACGCCAGAATGCCTGGCTGTGCCAATTTGTCGCCTTGCGTCGTTCTGTCAATCTTTACTCGTGTCGTGTTGTGATAAATGACAAACCCTGCACAACGTAGGGCTCACACAAGGGAATCTAGAGTATCCGATACAGGGAGCTTTAGCTTCCGTCCCTTATAGCCTGCCATATTCTTGCGGTAGCACGAGCCTCAGATCTTCTCACTCCGGAAATGGGAGCTTCGACGGTCAAGGGCTAAGACGTCTTCGGGAGAAATACCTAGGCGATGACCCTGAGTGGTTTTCCGCGTATAACTCATCCTGGTTGCAAATGATTACCGTTATAGCCTGGGGATATGCCTCAATTCCGAACCCAGGAGCATCACTCGAGCAATAGCGGTAAAGGAGGCTATTAGCAAAATTGTCACGATAAGCGCCGTTGTAGTGAAATTAAGATACATACATCGTTTAGCACATCACTCTCACGGCGTCTAGAAGCTGATCTTCATATGCTGACTCAGAAGGCTCGGATAATAGAGGACGAAGGTAGTTTACTCATCGCTGCCCCGACTATTACGTGTGCATGATAAAGTCTGACCCTGACGTTCCCAAGCCGAGGCAGAGGGGTTTTACGCTGAATGTCCGCTCTCTGTCGGATGATTTCGGAAGCTG')\n",
    "\n",
    "t_dna = [i for i in my_dna if i == 'T']\n",
    "c_dna = [i for i in my_dna if i == 'C']\n",
    "a_dna = [i for i in my_dna if i == 'A']\n",
    "g_dna = [i for i in my_dna if i == 'G']\n",
    "dna_count = {'A': len(a_dna), \n",
    "             'C': len(c_dna),\n",
    "             'G': len(g_dna),\n",
    "             'T': len(t_dna)}\n",
    "\n",
    "print(dna_count)"
   ]
  },
  {
   "cell_type": "code",
   "execution_count": 141,
   "id": "5a183cfa",
   "metadata": {},
   "outputs": [
    {
     "data": {
      "text/plain": [
       "(array(['A', 'C', 'G', 'T'], dtype='<U1'),\n",
       " array([247, 250, 249, 254], dtype=int64))"
      ]
     },
     "execution_count": 141,
     "metadata": {},
     "output_type": "execute_result"
    }
   ],
   "source": [
    "# bullet point number 5 to get NumPy to do the counting\n",
    "\n",
    "my_dna = list('AGGCAAGAAGCTAGAATTCTGGCCTGAGTATCTCAGTACAGGCGCAGTCGAATCTTCCGGAATCACATTGCTCGCGCTTAAACCCGCTCTAAACCTTTGAGTAATTCGACGACATTGGGTTCCCTCCGACGCTGTCTGACAACTCTTTAAGATCCTTGGCACGATGTCGATAGACATTGTCCCTGATGACGCCTCACAAGGTAACCTGGCTCTAGTAGGGTGGTCTTTGCTGCGGAACTTACCACCTGGTGGATCCAAGCACCAGAGGAGTTCGAAGAGGCTGGGGTACCCCCTATTTAGGAAGGGCGAGACTACGGTCACAAATTCCAAATGGCTTCCCTCGATTCATGACGCCAGAATGCCTGGCTGTGCCAATTTGTCGCCTTGCGTCGTTCTGTCAATCTTTACTCGTGTCGTGTTGTGATAAATGACAAACCCTGCACAACGTAGGGCTCACACAAGGGAATCTAGAGTATCCGATACAGGGAGCTTTAGCTTCCGTCCCTTATAGCCTGCCATATTCTTGCGGTAGCACGAGCCTCAGATCTTCTCACTCCGGAAATGGGAGCTTCGACGGTCAAGGGCTAAGACGTCTTCGGGAGAAATACCTAGGCGATGACCCTGAGTGGTTTTCCGCGTATAACTCATCCTGGTTGCAAATGATTACCGTTATAGCCTGGGGATATGCCTCAATTCCGAACCCAGGAGCATCACTCGAGCAATAGCGGTAAAGGAGGCTATTAGCAAAATTGTCACGATAAGCGCCGTTGTAGTGAAATTAAGATACATACATCGTTTAGCACATCACTCTCACGGCGTCTAGAAGCTGATCTTCATATGCTGACTCAGAAGGCTCGGATAATAGAGGACGAAGGTAGTTTACTCATCGCTGCCCCGACTATTACGTGTGCATGATAAAGTCTGACCCTGACGTTCCCAAGCCGAGGCAGAGGGGTTTTACGCTGAATGTCCGCTCTCTGTCGGATGATTTCGGAAGCTG')\n",
    "np.unique(my_dna, return_counts = True)"
   ]
  },
  {
   "cell_type": "code",
   "execution_count": 139,
   "id": "78d7f170",
   "metadata": {},
   "outputs": [
    {
     "name": "stdout",
     "output_type": "stream",
     "text": [
      "AGGC\n",
      "AAGA\n",
      "AGCT\n",
      "AGAA\n",
      "TTCT\n",
      "GGCC\n",
      "TGAG\n",
      "TATC\n",
      "TCAG\n",
      "TACA\n",
      "GGCG\n",
      "CAGT\n",
      "CGAA\n",
      "TCTT\n",
      "CCGG\n",
      "AATC\n",
      "ACAT\n",
      "TGCT\n",
      "CGCG\n",
      "CTTA\n",
      "AACC\n",
      "CGCT\n",
      "CTAA\n",
      "ACCT\n",
      "TTGA\n",
      "GTAA\n",
      "TTCG\n",
      "ACGA\n",
      "CATT\n",
      "GGGT\n",
      "TCCC\n",
      "TCCG\n",
      "ACGC\n",
      "TGTC\n",
      "TGAC\n",
      "AACT\n",
      "CTTT\n",
      "AAGA\n",
      "TCCT\n",
      "TGGC\n",
      "ACGA\n",
      "TGTC\n",
      "GATA\n",
      "GACA\n",
      "TTGT\n",
      "CCCT\n",
      "GATG\n",
      "ACGC\n",
      "CTCA\n",
      "CAAG\n",
      "GTAA\n",
      "CCTG\n",
      "GCTC\n",
      "TAGT\n",
      "AGGG\n",
      "TGGT\n",
      "CTTT\n",
      "GCTG\n",
      "CGGA\n",
      "ACTT\n",
      "ACCA\n",
      "CCTG\n",
      "GTGG\n",
      "ATCC\n",
      "AAGC\n",
      "ACCA\n",
      "GAGG\n",
      "AGTT\n",
      "CGAA\n",
      "GAGG\n",
      "CTGG\n",
      "GGTA\n",
      "CCCC\n",
      "CTAT\n",
      "TTAG\n",
      "GAAG\n",
      "GGCG\n",
      "AGAC\n",
      "TACG\n",
      "GTCA\n",
      "CAAA\n",
      "TTCC\n",
      "AAAT\n",
      "GGCT\n",
      "TCCC\n",
      "TCGA\n",
      "TTCA\n",
      "TGAC\n",
      "GCCA\n",
      "GAAT\n",
      "GCCT\n",
      "GGCT\n",
      "GTGC\n",
      "CAAT\n",
      "TTGT\n",
      "CGCC\n",
      "TTGC\n",
      "GTCG\n",
      "TTCT\n",
      "GTCA\n",
      "ATCT\n",
      "TTAC\n",
      "TCGT\n",
      "GTCG\n",
      "TGTT\n",
      "GTGA\n",
      "TAAA\n",
      "TGAC\n",
      "AAAC\n",
      "CCTG\n",
      "CACA\n",
      "ACGT\n",
      "AGGG\n",
      "CTCA\n",
      "CACA\n",
      "AGGG\n",
      "AATC\n",
      "TAGA\n",
      "GTAT\n",
      "CCGA\n",
      "TACA\n",
      "GGGA\n",
      "GCTT\n",
      "TAGC\n",
      "TTCC\n",
      "GTCC\n",
      "CTTA\n",
      "TAGC\n",
      "CTGC\n",
      "CATA\n",
      "TTCT\n",
      "TGCG\n",
      "GTAG\n",
      "CACG\n",
      "AGCC\n",
      "TCAG\n",
      "ATCT\n",
      "TCTC\n",
      "ACTC\n",
      "CGGA\n",
      "AATG\n",
      "GGAG\n",
      "CTTC\n",
      "GACG\n",
      "GTCA\n",
      "AGGG\n",
      "CTAA\n",
      "GACG\n",
      "TCTT\n",
      "CGGG\n",
      "AGAA\n",
      "ATAC\n",
      "CTAG\n",
      "GCGA\n",
      "TGAC\n",
      "CCTG\n",
      "AGTG\n",
      "GTTT\n",
      "TCCG\n",
      "CGTA\n",
      "TAAC\n",
      "TCAT\n",
      "CCTG\n",
      "GTTG\n",
      "CAAA\n",
      "TGAT\n",
      "TACC\n",
      "GTTA\n",
      "TAGC\n",
      "CTGG\n",
      "GGAT\n",
      "ATGC\n",
      "CTCA\n",
      "ATTC\n",
      "CGAA\n",
      "CCCA\n",
      "GGAG\n",
      "CATC\n",
      "ACTC\n",
      "GAGC\n",
      "AATA\n",
      "GCGG\n",
      "TAAA\n",
      "GGAG\n",
      "GCTA\n",
      "TTAG\n",
      "CAAA\n",
      "ATTG\n",
      "TCAC\n",
      "GATA\n",
      "AGCG\n",
      "CCGT\n",
      "TGTA\n",
      "GTGA\n",
      "AATT\n",
      "AAGA\n",
      "TACA\n",
      "TACA\n",
      "TCGT\n",
      "TTAG\n",
      "CACA\n",
      "TCAC\n",
      "TCTC\n",
      "ACGG\n",
      "CGTC\n",
      "TAGA\n",
      "AGCT\n",
      "GATC\n",
      "TTCA\n",
      "TATG\n",
      "CTGA\n",
      "CTCA\n",
      "GAAG\n",
      "GCTC\n",
      "GGAT\n",
      "AATA\n",
      "GAGG\n",
      "ACGA\n",
      "AGGT\n",
      "AGTT\n",
      "TACT\n",
      "CATC\n",
      "GCTG\n",
      "CCCC\n",
      "GACT\n",
      "ATTA\n",
      "CGTG\n",
      "TGCA\n",
      "TGAT\n",
      "AAAG\n",
      "TCTG\n",
      "ACCC\n",
      "TGAC\n",
      "GTTC\n",
      "CCAA\n",
      "GCCG\n",
      "AGGC\n",
      "AGAG\n",
      "GGGT\n",
      "TTTA\n",
      "CGCT\n",
      "GAAT\n",
      "GTCC\n",
      "GCTC\n",
      "TCTG\n",
      "TCGG\n",
      "ATGA\n",
      "TTTC\n",
      "GGAA\n",
      "GCTG\n"
     ]
    }
   ],
   "source": [
    "# bullet point number 6\n",
    "my_dna = list('AGGCAAGAAGCTAGAATTCTGGCCTGAGTATCTCAGTACAGGCGCAGTCGAATCTTCCGGAATCACATTGCTCGCGCTTAAACCCGCTCTAAACCTTTGAGTAATTCGACGACATTGGGTTCCCTCCGACGCTGTCTGACAACTCTTTAAGATCCTTGGCACGATGTCGATAGACATTGTCCCTGATGACGCCTCACAAGGTAACCTGGCTCTAGTAGGGTGGTCTTTGCTGCGGAACTTACCACCTGGTGGATCCAAGCACCAGAGGAGTTCGAAGAGGCTGGGGTACCCCCTATTTAGGAAGGGCGAGACTACGGTCACAAATTCCAAATGGCTTCCCTCGATTCATGACGCCAGAATGCCTGGCTGTGCCAATTTGTCGCCTTGCGTCGTTCTGTCAATCTTTACTCGTGTCGTGTTGTGATAAATGACAAACCCTGCACAACGTAGGGCTCACACAAGGGAATCTAGAGTATCCGATACAGGGAGCTTTAGCTTCCGTCCCTTATAGCCTGCCATATTCTTGCGGTAGCACGAGCCTCAGATCTTCTCACTCCGGAAATGGGAGCTTCGACGGTCAAGGGCTAAGACGTCTTCGGGAGAAATACCTAGGCGATGACCCTGAGTGGTTTTCCGCGTATAACTCATCCTGGTTGCAAATGATTACCGTTATAGCCTGGGGATATGCCTCAATTCCGAACCCAGGAGCATCACTCGAGCAATAGCGGTAAAGGAGGCTATTAGCAAAATTGTCACGATAAGCGCCGTTGTAGTGAAATTAAGATACATACATCGTTTAGCACATCACTCTCACGGCGTCTAGAAGCTGATCTTCATATGCTGACTCAGAAGGCTCGGATAATAGAGGACGAAGGTAGTTTACTCATCGCTGCCCCGACTATTACGTGTGCATGATAAAGTCTGACCCTGACGTTCCCAAGCCGAGGCAGAGGGGTTTTACGCTGAATGTCCGCTCTCTGTCGGATGATTTCGGAAGCTG')\n",
    "length = len(my_dna)\n",
    "#print(length)\n",
    "my_dna = ['AGGCAAGAAGCTAGAATTCTGGCCTGAGTATCTCAGTACAGGCGCAGTCGAATCTTCCGGAATCACATTGCTCGCGCTTAAACCCGCTCTAAACCTTTGAGTAATTCGACGACATTGGGTTCCCTCCGACGCTGTCTGACAACTCTTTAAGATCCTTGGCACGATGTCGATAGACATTGTCCCTGATGACGCCTCACAAGGTAACCTGGCTCTAGTAGGGTGGTCTTTGCTGCGGAACTTACCACCTGGTGGATCCAAGCACCAGAGGAGTTCGAAGAGGCTGGGGTACCCCCTATTTAGGAAGGGCGAGACTACGGTCACAAATTCCAAATGGCTTCCCTCGATTCATGACGCCAGAATGCCTGGCTGTGCCAATTTGTCGCCTTGCGTCGTTCTGTCAATCTTTACTCGTGTCGTGTTGTGATAAATGACAAACCCTGCACAACGTAGGGCTCACACAAGGGAATCTAGAGTATCCGATACAGGGAGCTTTAGCTTCCGTCCCTTATAGCCTGCCATATTCTTGCGGTAGCACGAGCCTCAGATCTTCTCACTCCGGAAATGGGAGCTTCGACGGTCAAGGGCTAAGACGTCTTCGGGAGAAATACCTAGGCGATGACCCTGAGTGGTTTTCCGCGTATAACTCATCCTGGTTGCAAATGATTACCGTTATAGCCTGGGGATATGCCTCAATTCCGAACCCAGGAGCATCACTCGAGCAATAGCGGTAAAGGAGGCTATTAGCAAAATTGTCACGATAAGCGCCGTTGTAGTGAAATTAAGATACATACATCGTTTAGCACATCACTCTCACGGCGTCTAGAAGCTGATCTTCATATGCTGACTCAGAAGGCTCGGATAATAGAGGACGAAGGTAGTTTACTCATCGCTGCCCCGACTATTACGTGTGCATGATAAAGTCTGACCCTGACGTTCCCAAGCCGAGGCAGAGGGGTTTTACGCTGAATGTCCGCTCTCTGTCGGATGATTTCGGAAGCTG']\n",
    "\n",
    "for i in range(0, length, 4):\n",
    "    word = my_dna[0][i:i + 4]\n",
    "    print(word)"
   ]
  }
 ],
 "metadata": {
  "kernelspec": {
   "display_name": "Python 3 (ipykernel)",
   "language": "python",
   "name": "python3"
  },
  "language_info": {
   "codemirror_mode": {
    "name": "ipython",
    "version": 3
   },
   "file_extension": ".py",
   "mimetype": "text/x-python",
   "name": "python",
   "nbconvert_exporter": "python",
   "pygments_lexer": "ipython3",
   "version": "3.10.8"
  },
  "toc": {
   "base_numbering": 1,
   "nav_menu": {},
   "number_sections": true,
   "sideBar": true,
   "skip_h1_title": false,
   "title_cell": "Table of Contents",
   "title_sidebar": "Contents",
   "toc_cell": false,
   "toc_position": {},
   "toc_section_display": true,
   "toc_window_display": false
  },
  "varInspector": {
   "cols": {
    "lenName": 16,
    "lenType": 16,
    "lenVar": 40
   },
   "kernels_config": {
    "python": {
     "delete_cmd_postfix": "",
     "delete_cmd_prefix": "del ",
     "library": "var_list.py",
     "varRefreshCmd": "print(var_dic_list())"
    },
    "r": {
     "delete_cmd_postfix": ") ",
     "delete_cmd_prefix": "rm(",
     "library": "var_list.r",
     "varRefreshCmd": "cat(var_dic_list()) "
    }
   },
   "types_to_exclude": [
    "module",
    "function",
    "builtin_function_or_method",
    "instance",
    "_Feature"
   ],
   "window_display": false
  },
  "vscode": {
   "interpreter": {
    "hash": "31f2aee4e71d21fbe5cf8b01ff0e069b9275f58929596ceb00d14d90e3e16cd6"
   }
  }
 },
 "nbformat": 4,
 "nbformat_minor": 5
}
