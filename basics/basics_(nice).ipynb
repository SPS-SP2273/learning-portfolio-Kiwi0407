{
 "cells": [
  {
   "cell_type": "markdown",
   "id": "123456",
   "metadata": {},
   "source": [
    "<div style=\"text-align:left;font-size:2em\"><span style=\"font-weight:bolder;font-size:1.25em\">SP2273 | Learning Portfolio</span><br><br><span style=\"font-weight:bold;color:darkred\">Basics (Nice)</span></div>"
   ]
  },
  {
   "cell_type": "markdown",
   "id": "042360cd",
   "metadata": {},
   "source": [
    "## 1 Beyond Python Basics"
   ]
  },
  {
   "cell_type": "markdown",
   "id": "936c25b2",
   "metadata": {},
   "source": [
    "### 1.1 If if is not enough"
   ]
  },
  {
   "cell_type": "code",
   "execution_count": 1,
   "id": "ee4dfb76",
   "metadata": {},
   "outputs": [
    {
     "name": "stdout",
     "output_type": "stream",
     "text": [
      "Hello Hero | Batman!\n"
     ]
    }
   ],
   "source": [
    "\n",
    "# Your code here\n",
    "# this is a match-case statement\n",
    "name = 'Batman'\n",
    "\n",
    "match name:\n",
    "    case 'Batman':\n",
    "        print('Hello Hero | Batman!')\n",
    "    case 'Robin':\n",
    "        print('Hello Sidekick | Robin!')\n",
    "    case _:\n",
    "        print('Hello World!')"
   ]
  },
  {
   "cell_type": "markdown",
   "id": "2befa2f7",
   "metadata": {},
   "source": [
    "### 1.2 Ternary operators or Conditional Statements"
   ]
  },
  {
   "cell_type": "markdown",
   "id": "92abe334",
   "metadata": {},
   "source": [
    "\n",
    "# Your code here\n",
    "## example 1\n",
    "if nationality == 'French':\n",
    "    greeting = \"Bonjour!\"\n",
    "else:\n",
    "    greeting = \"Hello!\""
   ]
  },
  {
   "cell_type": "markdown",
   "id": "d446d924",
   "metadata": {},
   "source": [
    "greeting = \"Bonjour!\" if nationality == 'French' else \"Hello!\""
   ]
  },
  {
   "cell_type": "markdown",
   "id": "5b12d039",
   "metadata": {},
   "source": [
    "(\"Bonjour!\", \"Hello!\")[nationality == 'French']"
   ]
  },
  {
   "cell_type": "code",
   "execution_count": 6,
   "id": "1f351a1b",
   "metadata": {},
   "outputs": [
    {
     "name": "stdout",
     "output_type": "stream",
     "text": [
      "No message!\n"
     ]
    }
   ],
   "source": [
    "## example 2\n",
    "text = None\n",
    "message = text or \"No message!\"\n",
    "print(message)"
   ]
  },
  {
   "cell_type": "markdown",
   "id": "e122dbde",
   "metadata": {},
   "source": [
    "### 1.3 Swapping values"
   ]
  },
  {
   "cell_type": "code",
   "execution_count": 7,
   "id": "705df8b7",
   "metadata": {},
   "outputs": [
    {
     "name": "stdout",
     "output_type": "stream",
     "text": [
      "2 1\n"
     ]
    }
   ],
   "source": [
    "\n",
    "# Your code here\n",
    "a, b = 1, 2\n",
    "a, b = b, a\n",
    "print(a, b)"
   ]
  },
  {
   "cell_type": "markdown",
   "id": "b5aac783",
   "metadata": {},
   "source": [
    "### 1.4 Never compare floats directly"
   ]
  },
  {
   "cell_type": "code",
   "execution_count": 8,
   "id": "9037d1c2",
   "metadata": {},
   "outputs": [
    {
     "data": {
      "text/plain": [
       "False"
      ]
     },
     "execution_count": 8,
     "metadata": {},
     "output_type": "execute_result"
    }
   ],
   "source": [
    "\n",
    "# Your code here\n",
    "a = 0.1\n",
    "a3 = 0.3\n",
    "a * 3 == a3"
   ]
  },
  {
   "cell_type": "code",
   "execution_count": 9,
   "id": "9fac49b7",
   "metadata": {},
   "outputs": [
    {
     "name": "stdout",
     "output_type": "stream",
     "text": [
      "         0.300000\n"
     ]
    }
   ],
   "source": [
    "# floating point numbers cannot be exactly stored in a computer and this is called a roundoff error\n",
    "print(f\"{0.3:17f}\")"
   ]
  },
  {
   "cell_type": "code",
   "execution_count": 10,
   "id": "7a1b7c42",
   "metadata": {},
   "outputs": [
    {
     "name": "stdout",
     "output_type": "stream",
     "text": [
      "True\n"
     ]
    }
   ],
   "source": [
    "eps = 1E-10\n",
    "print(abs(a * 3 - a3) < eps)\n",
    "\n",
    "# check if variable is close to expected value"
   ]
  },
  {
   "cell_type": "code",
   "execution_count": 11,
   "id": "90358588",
   "metadata": {},
   "outputs": [
    {
     "name": "stdout",
     "output_type": "stream",
     "text": [
      "True\n"
     ]
    }
   ],
   "source": [
    "print(np.isclose(a * 3, a3))"
   ]
  },
  {
   "cell_type": "markdown",
   "id": "40025dc5",
   "metadata": {},
   "source": [
    "### 1.5 Operator precedance"
   ]
  },
  {
   "cell_type": "code",
   "execution_count": null,
   "id": "faf0bbb0",
   "metadata": {},
   "outputs": [],
   "source": [
    "\n",
    "# Your code here\n"
   ]
  },
  {
   "cell_type": "markdown",
   "id": "5c3bed79",
   "metadata": {},
   "source": [
    "## 2 Variables in Python"
   ]
  },
  {
   "cell_type": "markdown",
   "id": "7e20c894",
   "metadata": {},
   "source": [
    "### 2.1 Variables in Python are just names"
   ]
  },
  {
   "cell_type": "code",
   "execution_count": 12,
   "id": "d86fd303",
   "metadata": {},
   "outputs": [
    {
     "name": "stdout",
     "output_type": "stream",
     "text": [
      "x: [1, 2, 3], y: [1, 2, 3]\n"
     ]
    }
   ],
   "source": [
    "\n",
    "# Your code here\n",
    "x = [1, 2]\n",
    "y = x\n",
    "y.append(3)\n",
    "\n",
    "# append will add an element at the end of the list\n",
    "\n",
    "print(f\"x: {x}, y: {y}\")"
   ]
  },
  {
   "cell_type": "code",
   "execution_count": 14,
   "id": "ee6e576e",
   "metadata": {},
   "outputs": [
    {
     "name": "stdout",
     "output_type": "stream",
     "text": [
      "x: 1792416547056, y: 1792416547056, 1: 1792416547056\n"
     ]
    }
   ],
   "source": [
    "x = 1\n",
    "y = 1\n",
    "\n",
    "print(f\"x: {id(x)}, y: {id(y)}, 1: {id(1)}\")\n",
    "\n",
    "# objects 1, 2 and a have three properties of type, value and id\n",
    "# 1 have value of 1, type int and some id\n",
    "# a have value of a, type str and some id\n",
    "# after running code, x and y bound to 1, x and y are names bound to 1"
   ]
  },
  {
   "cell_type": "code",
   "execution_count": 15,
   "id": "b4585242",
   "metadata": {
    "scrolled": true
   },
   "outputs": [
    {
     "name": "stdout",
     "output_type": "stream",
     "text": [
      "x: 1792416547056, y: 1792416547088\n"
     ]
    }
   ],
   "source": [
    "x = 1\n",
    "y = x + 1\n",
    "\n",
    "print(f\"x: {id(x)}, y: {id(y)}\")\n",
    "\n",
    "# value of 1 cannot be changed aka immutable\n",
    "# so the binding is changed from 1 to 2\n",
    "# other immutables: str (letters), float and bool\n",
    "\n",
    "# objects with values that can be changed aka mutable\n",
    "# other mutables: lists and dictionaries"
   ]
  },
  {
   "cell_type": "code",
   "execution_count": 16,
   "id": "65a966be",
   "metadata": {
    "scrolled": true
   },
   "outputs": [
    {
     "name": "stdout",
     "output_type": "stream",
     "text": [
      "1: 1792416547056, 2: 1792416547088\n"
     ]
    }
   ],
   "source": [
    "print(f\"1: {id(1)}, 2: {id(2)}\")"
   ]
  },
  {
   "cell_type": "code",
   "execution_count": 17,
   "id": "0858718d",
   "metadata": {},
   "outputs": [],
   "source": [
    "# x is bound to a list object with a value [1 ,2]\n",
    "x = [1, 2]\n",
    "\n",
    "# y is bound to the SAME list object with a value [1 ,2]\n",
    "y = x\n",
    "\n",
    "# y is used to change the value of the object from  [1, 2] to [1, 2, 3]\n",
    "y.append(3)"
   ]
  },
  {
   "cell_type": "code",
   "execution_count": 18,
   "id": "92bf88d7",
   "metadata": {},
   "outputs": [],
   "source": [
    "# for an independent copy of x:\n",
    "y = x.copy()"
   ]
  },
  {
   "cell_type": "markdown",
   "id": "ab3dfdb3",
   "metadata": {},
   "source": [
    "### 2.2 == is not the same as is"
   ]
  },
  {
   "cell_type": "code",
   "execution_count": null,
   "id": "abbf6de3",
   "metadata": {},
   "outputs": [],
   "source": [
    "\n",
    "# Your code here\n",
    "# comparing 'items' using == and is\n",
    "\n",
    "# \"x is y\" checks for identity aka if x and y bound to same object by comparing ID\n",
    "# \"x == y\" checks for equality by running function"
   ]
  }
 ],
 "metadata": {
  "kernelspec": {
   "display_name": "Python 3 (ipykernel)",
   "language": "python",
   "name": "python3"
  },
  "language_info": {
   "codemirror_mode": {
    "name": "ipython",
    "version": 3
   },
   "file_extension": ".py",
   "mimetype": "text/x-python",
   "name": "python",
   "nbconvert_exporter": "python",
   "pygments_lexer": "ipython3",
   "version": "3.10.8"
  },
  "toc": {
   "base_numbering": 1,
   "nav_menu": {},
   "number_sections": true,
   "sideBar": true,
   "skip_h1_title": false,
   "title_cell": "Table of Contents",
   "title_sidebar": "Contents",
   "toc_cell": false,
   "toc_position": {},
   "toc_section_display": true,
   "toc_window_display": false
  },
  "varInspector": {
   "cols": {
    "lenName": 16,
    "lenType": 16,
    "lenVar": 40
   },
   "kernels_config": {
    "python": {
     "delete_cmd_postfix": "",
     "delete_cmd_prefix": "del ",
     "library": "var_list.py",
     "varRefreshCmd": "print(var_dic_list())"
    },
    "r": {
     "delete_cmd_postfix": ") ",
     "delete_cmd_prefix": "rm(",
     "library": "var_list.r",
     "varRefreshCmd": "cat(var_dic_list()) "
    }
   },
   "types_to_exclude": [
    "module",
    "function",
    "builtin_function_or_method",
    "instance",
    "_Feature"
   ],
   "window_display": false
  },
  "vscode": {
   "interpreter": {
    "hash": "31f2aee4e71d21fbe5cf8b01ff0e069b9275f58929596ceb00d14d90e3e16cd6"
   }
  }
 },
 "nbformat": 4,
 "nbformat_minor": 5
}
