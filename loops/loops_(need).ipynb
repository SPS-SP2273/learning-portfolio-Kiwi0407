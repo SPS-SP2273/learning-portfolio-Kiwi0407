{
 "cells": [
  {
   "cell_type": "markdown",
   "id": "123456",
   "metadata": {},
   "source": [
    "<div style=\"text-align:left;font-size:2em\"><span style=\"font-weight:bolder;font-size:1.25em\">SP2273 | Learning Portfolio</span><br><br><span style=\"font-weight:bold;color:darkred\">Loops (Need)</span></div>"
   ]
  },
  {
   "cell_type": "markdown",
   "id": "fb626be9",
   "metadata": {},
   "source": [
    "## 1 for"
   ]
  },
  {
   "cell_type": "markdown",
   "id": "61a9b03d",
   "metadata": {},
   "source": [
    "### 1.1 for with a list"
   ]
  },
  {
   "cell_type": "code",
   "execution_count": 4,
   "id": "0e1ac8c4",
   "metadata": {},
   "outputs": [],
   "source": [
    "# Your code here\n",
    "real_names = [\"Natasha Romanoff\", \"Tony Stark\", \"Stephen Strange\"]"
   ]
  },
  {
   "cell_type": "code",
   "execution_count": 5,
   "id": "b986b84a",
   "metadata": {},
   "outputs": [
    {
     "name": "stdout",
     "output_type": "stream",
     "text": [
      "Natasha Romanoff is a Marvel superhero!\n",
      "Tony Stark is a Marvel superhero!\n",
      "Stephen Strange is a Marvel superhero!\n"
     ]
    }
   ],
   "source": [
    "# apparently a bad way of printing message\n",
    "name=real_names[0]\n",
    "print(f\"{name} is a Marvel superhero!\")\n",
    "\n",
    "name=real_names[1]\n",
    "print(f\"{name} is a Marvel superhero!\")\n",
    "\n",
    "name=real_names[2]\n",
    "print(f\"{name} is a Marvel superhero!\")\n",
    "# limited due to scale\n",
    "# not practical when we need to print a lot"
   ]
  },
  {
   "cell_type": "code",
   "execution_count": 7,
   "id": "40c86032",
   "metadata": {},
   "outputs": [
    {
     "name": "stdout",
     "output_type": "stream",
     "text": [
      "Natasha Romanoff is a Marvel superhero!\n",
      "Tony Stark is a Marvel superhero!\n",
      "Stephen Strange is a Marvel superhero!\n"
     ]
    }
   ],
   "source": [
    "# 'for' loop\n",
    "# goes through the list + assigns 'name' the value of each element of the list\n",
    "# runs code-block with that value for 'name'\n",
    "for name in real_names:\n",
    "    print(f\"{name} is a Marvel superhero!\")\n",
    "# for used to loop through a list"
   ]
  },
  {
   "cell_type": "markdown",
   "id": "77a53f5f",
   "metadata": {},
   "source": [
    "### 1.2 for with enumerate"
   ]
  },
  {
   "cell_type": "code",
   "execution_count": 8,
   "id": "b55bc0f4",
   "metadata": {},
   "outputs": [],
   "source": [
    "# Your code here\n",
    "super_names = [\"Black Widow\", \"Iron Man\", \"Doctor Strange\"]\n",
    "real_names = [\"Natasha Romanoff\", \"Tony Stark\", \"Stephen Strange\"]"
   ]
  },
  {
   "cell_type": "code",
   "execution_count": 9,
   "id": "c8c409cc",
   "metadata": {
    "scrolled": true
   },
   "outputs": [
    {
     "name": "stdout",
     "output_type": "stream",
     "text": [
      "0: Natasha Romanoff is a Marvel superhero!\n",
      "1: Tony Stark is a Marvel superhero!\n",
      "2: Stephen Strange is a Marvel superhero!\n"
     ]
    }
   ],
   "source": [
    "for i, name in enumerate(real_names):\n",
    "    print(f'{i}: {name} is a Marvel superhero!')\n",
    "    \n",
    "# enumerate() keeps count\n",
    "# store elements of the list\n",
    "# also give a number (stored in 'i') aka how many lines"
   ]
  },
  {
   "cell_type": "code",
   "execution_count": 10,
   "id": "c3cfb462",
   "metadata": {},
   "outputs": [
    {
     "name": "stdout",
     "output_type": "stream",
     "text": [
      "Natasha Romanoff is Black Widow!\n",
      "Tony Stark is Iron Man!\n",
      "Stephen Strange is Doctor Strange!\n"
     ]
    }
   ],
   "source": [
    "for i, name in enumerate(real_names):\n",
    "    superhero_name = super_names[i]\n",
    "    print(f'{name} is {superhero_name}!')"
   ]
  },
  {
   "cell_type": "code",
   "execution_count": 11,
   "id": "e7b7b89e",
   "metadata": {},
   "outputs": [
    {
     "name": "stdout",
     "output_type": "stream",
     "text": [
      "100: Natasha Romanoff is a Marvel superhero!\n",
      "101: Tony Stark is a Marvel superhero!\n",
      "102: Stephen Strange is a Marvel superhero!\n"
     ]
    }
   ],
   "source": [
    "# by default, enumerate() starts from 0\n",
    "for i, name in enumerate(real_names, 100):\n",
    "    print(f'{i}: {name} is a Marvel superhero!')\n",
    "    \n",
    "# 'for' combined with enumerate() to count while looping"
   ]
  },
  {
   "cell_type": "markdown",
   "id": "bcc0e389",
   "metadata": {},
   "source": [
    "### 1.3 for with range"
   ]
  },
  {
   "cell_type": "code",
   "execution_count": 12,
   "id": "ea7235c7",
   "metadata": {},
   "outputs": [
    {
     "name": "stdout",
     "output_type": "stream",
     "text": [
      "0\n",
      "1\n",
      "2\n",
      "3\n",
      "4\n"
     ]
    }
   ],
   "source": [
    "# Your code here\n",
    "# example 1\n",
    "for i in range(5):\n",
    "    print(i)"
   ]
  },
  {
   "cell_type": "code",
   "execution_count": 13,
   "id": "1b106988",
   "metadata": {},
   "outputs": [
    {
     "name": "stdout",
     "output_type": "stream",
     "text": [
      "5\n",
      "6\n",
      "7\n",
      "8\n",
      "9\n"
     ]
    }
   ],
   "source": [
    "# example 2\n",
    "# starting and ending values\n",
    "for i in range(5, 10):\n",
    "    print(i)"
   ]
  },
  {
   "cell_type": "code",
   "execution_count": 15,
   "id": "570d6ef3",
   "metadata": {},
   "outputs": [
    {
     "name": "stdout",
     "output_type": "stream",
     "text": [
      "1\n",
      "4\n",
      "7\n"
     ]
    }
   ],
   "source": [
    "# example 3\n",
    "# adjusting the step size is the last number\n",
    "for i in range(1, 10, 3):\n",
    "    print(i)"
   ]
  },
  {
   "cell_type": "markdown",
   "id": "5d36fd1e",
   "metadata": {},
   "source": [
    "- functions like `range()` and `enumerate()` only work with looping structures\n",
    "- `range()` always ends one short of the ending number (for example: range(5, 10) but actually ends at 9)"
   ]
  },
  {
   "cell_type": "code",
   "execution_count": 17,
   "id": "4f0a1008",
   "metadata": {},
   "outputs": [
    {
     "name": "stdout",
     "output_type": "stream",
     "text": [
      "Natasha Romanoff is Marvel's Black Widow!\n",
      "Tony Stark is Marvel's Iron Man!\n",
      "Stephen Strange is Marvel's Doctor Strange!\n"
     ]
    }
   ],
   "source": [
    "for i in range(len(real_names)):\n",
    "    real_name = real_names[i]\n",
    "    super_name = super_names[i]        \n",
    "    print(f\"{real_name} is Marvel's {super_name}!\")\n",
    "    \n",
    "# 'len(real_names)' was used to get the number of times the loop should run\n",
    "# 'for' can be run a given number of times using 'range()'"
   ]
  },
  {
   "cell_type": "markdown",
   "id": "8595c15f",
   "metadata": {},
   "source": [
    "## 2 while"
   ]
  },
  {
   "cell_type": "code",
   "execution_count": 18,
   "id": "143b046f",
   "metadata": {},
   "outputs": [
    {
     "name": "stdout",
     "output_type": "stream",
     "text": [
      "0\n",
      "1\n",
      "2\n",
      "3\n",
      "4\n"
     ]
    }
   ],
   "source": [
    "# 'while' a condition is true, it will loop\n",
    "# it checks condition at the start and begins if true\n",
    "number = 0\n",
    "\n",
    "while number < 5:\n",
    "    print(number)\n",
    "    number += 1"
   ]
  },
  {
   "cell_type": "markdown",
   "id": "f83f783a",
   "metadata": {},
   "source": [
    "## Exercise 1 :  Make me a list"
   ]
  },
  {
   "cell_type": "code",
   "execution_count": 1,
   "id": "47115ae9",
   "metadata": {},
   "outputs": [
    {
     "name": "stdout",
     "output_type": "stream",
     "text": [
      "[0, 1, 4, 9, 16, 25, 36, 49, 64, 81]\n"
     ]
    }
   ],
   "source": [
    "# Your solution here\n",
    "# use 'for' loop with 'range()' to generate list of squares of the first ten integers (0 to 9) from zero\n",
    "lst = []\n",
    "for i in range(10):\n",
    "    lst.append(i**2)\n",
    "print(lst)"
   ]
  },
  {
   "cell_type": "code",
   "execution_count": 2,
   "id": "5d4d0d8f",
   "metadata": {},
   "outputs": [
    {
     "ename": "SyntaxError",
     "evalue": "':' expected after dictionary key (1002888434.py, line 1)",
     "output_type": "error",
     "traceback": [
      "\u001b[1;36m  Cell \u001b[1;32mIn[2], line 1\u001b[1;36m\u001b[0m\n\u001b[1;33m    lst = list({'nine':9, 'eight'8})\u001b[0m\n\u001b[1;37m                                ^\u001b[0m\n\u001b[1;31mSyntaxError\u001b[0m\u001b[1;31m:\u001b[0m ':' expected after dictionary key\n"
     ]
    }
   ],
   "source": [
    "lst = list({'nine':9, 'eight'8})"
   ]
  },
  {
   "cell_type": "markdown",
   "id": "10fb2137",
   "metadata": {},
   "source": [
    "## Exercise 2 :  Make me an odd list"
   ]
  },
  {
   "cell_type": "code",
   "execution_count": 1,
   "id": "f079c7cc",
   "metadata": {},
   "outputs": [
    {
     "name": "stdout",
     "output_type": "stream",
     "text": [
      "[1, 9, 25, 49, 81]\n"
     ]
    }
   ],
   "source": [
    "# Your solution here\n",
    "# only the squares of the odd numbers from 0 to 9\n",
    "answer = []\n",
    "for i in range(1, 10, 2):\n",
    "    answer.append(i**2)\n",
    "print(answer)\n",
    "# adjust the starting of range() is the first number\n",
    "# adjust the end of range() is the middle number\n",
    "# adjust the step of range() is the last number"
   ]
  },
  {
   "cell_type": "markdown",
   "id": "2b836a86",
   "metadata": {},
   "source": [
    "## Exercise 3 :  Make me another odd list"
   ]
  },
  {
   "cell_type": "code",
   "execution_count": 2,
   "id": "c1174b56",
   "metadata": {},
   "outputs": [
    {
     "name": "stdout",
     "output_type": "stream",
     "text": [
      "[1, 9, 25, 49, 81]\n"
     ]
    }
   ],
   "source": [
    "# Your solution here\n",
    "\n",
    "answer = []\n",
    "number = 0\n",
    "\n",
    "while number < 10:\n",
    "    if number % 2 == 1:\n",
    "        answer.append(number**2)\n",
    "    number += 1\n",
    "\n",
    "print(answer)"
   ]
  },
  {
   "cell_type": "code",
   "execution_count": 6,
   "id": "08155899",
   "metadata": {},
   "outputs": [
    {
     "name": "stdout",
     "output_type": "stream",
     "text": [
      "[0, 4, 16, 36, 64]\n"
     ]
    }
   ],
   "source": [
    "answer = []\n",
    "number = 0\n",
    "\n",
    "while number < 10:\n",
    "    answer.append(number**2)\n",
    "    number += 2\n",
    "print(answer)"
   ]
  },
  {
   "cell_type": "code",
   "execution_count": 3,
   "id": "b26a9b2d",
   "metadata": {},
   "outputs": [
    {
     "name": "stdout",
     "output_type": "stream",
     "text": [
      "thank you yuuki\n"
     ]
    }
   ],
   "source": [
    "print(\"thank you yuuki\")\n",
    "\n",
    "# testing to see if the code is running\n",
    "# cus it wasn't when I tried this ;-;"
   ]
  }
 ],
 "metadata": {
  "kernelspec": {
   "display_name": "Python 3 (ipykernel)",
   "language": "python",
   "name": "python3"
  },
  "language_info": {
   "codemirror_mode": {
    "name": "ipython",
    "version": 3
   },
   "file_extension": ".py",
   "mimetype": "text/x-python",
   "name": "python",
   "nbconvert_exporter": "python",
   "pygments_lexer": "ipython3",
   "version": "3.10.8"
  },
  "toc": {
   "base_numbering": 1,
   "nav_menu": {},
   "number_sections": true,
   "sideBar": true,
   "skip_h1_title": false,
   "title_cell": "Table of Contents",
   "title_sidebar": "Contents",
   "toc_cell": false,
   "toc_position": {},
   "toc_section_display": true,
   "toc_window_display": false
  },
  "varInspector": {
   "cols": {
    "lenName": 16,
    "lenType": 16,
    "lenVar": 40
   },
   "kernels_config": {
    "python": {
     "delete_cmd_postfix": "",
     "delete_cmd_prefix": "del ",
     "library": "var_list.py",
     "varRefreshCmd": "print(var_dic_list())"
    },
    "r": {
     "delete_cmd_postfix": ") ",
     "delete_cmd_prefix": "rm(",
     "library": "var_list.r",
     "varRefreshCmd": "cat(var_dic_list()) "
    }
   },
   "types_to_exclude": [
    "module",
    "function",
    "builtin_function_or_method",
    "instance",
    "_Feature"
   ],
   "window_display": false
  },
  "vscode": {
   "interpreter": {
    "hash": "31f2aee4e71d21fbe5cf8b01ff0e069b9275f58929596ceb00d14d90e3e16cd6"
   }
  }
 },
 "nbformat": 4,
 "nbformat_minor": 5
}
