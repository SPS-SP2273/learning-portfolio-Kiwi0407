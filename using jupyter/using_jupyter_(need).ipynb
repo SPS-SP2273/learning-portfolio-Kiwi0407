{
 "cells": [
  {
   "cell_type": "markdown",
   "id": "123456",
   "metadata": {},
   "source": [
    "<div style=\"text-align:left;font-size:2em\"><span style=\"font-weight:bolder;font-size:1.25em\">SP2273 | Learning Portfolio</span><br><br><span style=\"font-weight:bold;color:darkred\">Using Jupyter (Need)</span></div>"
   ]
  },
  {
   "cell_type": "markdown",
   "id": "e8a0e388",
   "metadata": {},
   "source": [
    "## 1 Getting started with Jupyter"
   ]
  },
  {
   "cell_type": "markdown",
   "id": "4683e4c7",
   "metadata": {},
   "source": [
    "### 1.1 Its all about running cells"
   ]
  },
  {
   "cell_type": "code",
   "execution_count": null,
   "id": "50551ad6",
   "metadata": {},
   "outputs": [],
   "source": [
    "\n",
    "# Your code here\n"
   ]
  },
  {
   "cell_type": "markdown",
   "id": "dc28237e",
   "metadata": {},
   "source": [
    "### 1.2 A traditional start"
   ]
  },
  {
   "cell_type": "code",
   "execution_count": 2,
   "id": "836eb6df",
   "metadata": {},
   "outputs": [
    {
     "name": "stdout",
     "output_type": "stream",
     "text": [
      "hello world!\n"
     ]
    }
   ],
   "source": [
    "\n",
    "# Your code here\n",
    "print('hello world!')"
   ]
  },
  {
   "cell_type": "markdown",
   "id": "405974fe",
   "metadata": {},
   "source": [
    "## 2 All about Markdown"
   ]
  },
  {
   "cell_type": "markdown",
   "id": "821d84b2",
   "metadata": {},
   "source": [
    "### 2.1 Rendering Markdown cells"
   ]
  },
  {
   "cell_type": "markdown",
   "id": "fd1f1762",
   "metadata": {},
   "source": [
    "\n",
    "# Your code here\n",
    "The ships hung in the sky in much the same way that bricks don't."
   ]
  },
  {
   "cell_type": "markdown",
   "id": "95b135d5",
   "metadata": {},
   "source": [
    "### 2.2 Some basic syntax"
   ]
  },
  {
   "cell_type": "markdown",
   "id": "d39a37b0",
   "metadata": {},
   "source": [
    "\n",
    "# Your code here\n",
    "The ships *hung in the sky* in much the same way that **bricks don't.** <sup>1</sup> <sub>QUOTE</sub>"
   ]
  },
  {
   "cell_type": "markdown",
   "id": "9f99c389",
   "metadata": {},
   "source": [
    "### 2.3 Headings"
   ]
  },
  {
   "cell_type": "markdown",
   "id": "437dc4a0",
   "metadata": {},
   "source": [
    "\n",
    "# Your code here\n",
    "# The largest heading\n",
    "## The second-largest heading\n",
    "###### The smallest heading"
   ]
  },
  {
   "cell_type": "markdown",
   "id": "ca2290a3",
   "metadata": {},
   "source": [
    "### 2.4 Displaying Code"
   ]
  },
  {
   "cell_type": "markdown",
   "id": "6e19963b",
   "metadata": {},
   "source": [
    "\n",
    "# Your code here\n",
    "```python\n",
    "print('Hello World!')\n",
    "```"
   ]
  },
  {
   "cell_type": "markdown",
   "id": "7d4b0cab",
   "metadata": {},
   "source": [
    "### 2.5 Links"
   ]
  },
  {
   "cell_type": "markdown",
   "id": "fb1c2d31",
   "metadata": {},
   "source": [
    "\n",
    "# Your code here\n",
    "[SP2273 Website] (https://sps.nus.edu.sg/sp2273)"
   ]
  },
  {
   "cell_type": "markdown",
   "id": "655130a4",
   "metadata": {},
   "source": [
    "### 2.6 Images"
   ]
  },
  {
   "cell_type": "markdown",
   "id": "6590671b",
   "metadata": {},
   "source": [
    "\n",
    "# Your code here\n",
    "![](https://nus.edu.sg/images/default-source/base/logo.png)"
   ]
  },
  {
   "cell_type": "markdown",
   "id": "ebb9a3fb",
   "metadata": {},
   "source": [
    "### 2.7 Tables"
   ]
  },
  {
   "cell_type": "markdown",
   "id": "52423215",
   "metadata": {},
   "source": [
    "\n",
    "# Your code here\n",
    "|A |B | C|\n",
    "|:---|:--:|---:|\n",
    "|a1  | b1 |  c1|\n",
    "|a2  | b2 |  c2|\n",
    "|a3  | b3 |  c3|"
   ]
  },
  {
   "cell_type": "markdown",
   "id": "8447c62f",
   "metadata": {},
   "source": [
    "### 2.8 Lists"
   ]
  },
  {
   "cell_type": "markdown",
   "id": "5bf289f2",
   "metadata": {},
   "source": [
    "\n",
    "# Your code here\n",
    "1. Master Yoda\n",
    "1. Luke Skywalker\n",
    "1. Anakin Skywalker\n",
    "\n",
    "- Master Yoda\n",
    "- Luke Skywalker\n",
    "- Anakin Skywalker\n",
    "\n",
    "1. Master Yoda\n",
    " 1. Was a Jedi\n",
    " 1. Was a bit green\n",
    "1. Luke Skywalker\n",
    " 1. was a Jedi\n",
    " 1. Is Anakin's son.\n",
    "1. Anakin Skywalker\n",
    " 1. Was a Jedi then became a baddie\n",
    " 1. Is famous for saying 'Luke, I am your father'\n",
    " \n",
    " 1. Master Yoda\n",
    " - Was a Jedi\n",
    " - Was a bit green\n",
    "2. Luke SKywalker\n",
    " - Was a Jedi\n",
    " - Is Anakin's son\n",
    "3. Anakin SKywalker\n",
    " - Was a Jedi then became a baddie\n",
    " - Is famous for saying 'Luke, I am your father'"
   ]
  },
  {
   "cell_type": "markdown",
   "id": "dd9b6332",
   "metadata": {},
   "source": [
    "### 2.9 Equations"
   ]
  },
  {
   "cell_type": "markdown",
   "id": "ba7d9932",
   "metadata": {},
   "source": [
    "\n",
    "# Your code here\n",
    "$$\n",
    "x = \\dfrac{-b \\pm \\sqrt{b^2-4ac}}{2a}\n",
    "$$"
   ]
  },
  {
   "cell_type": "markdown",
   "id": "04c69990",
   "metadata": {},
   "source": [
    "## Exercise 1 :  Put it in Markdown"
   ]
  },
  {
   "cell_type": "markdown",
   "id": "a0f17a4f",
   "metadata": {},
   "source": [
    "\n",
    "\n",
    "\n",
    "# Your solution here\n",
    "**Quadratic Equations**\n",
    "![](https://upload.wikimedia.org/wikipedia/commons/thumb/f/f8/Polynomialdeg2.svg/300px-Polynomialdeg2.svg.png)\n",
    "(*Image from the [Wikipedia page on Quadratic equations](https://en.wikipedia.org/wiki/Quadratic_equation)*)\n",
    "\n",
    "**Introduction**\n"
   ]
  },
  {
   "cell_type": "markdown",
   "id": "d92d1100",
   "metadata": {},
   "source": [
    "The general form of a quadratic equation is:\n",
    "$$\n",
    "ax^{x} + bx + c = 0\n",
    "$$"
   ]
  },
  {
   "cell_type": "markdown",
   "id": "382f09f6",
   "metadata": {},
   "source": [
    "**Solutions** Provided $a\\ne 0$, we can use an elementary algebraic method called [completing the square](https://en.wikipedia.org/wiki/Completing_the_square) to show that a quadratic equation has the following solution:\n",
    "$$\n",
    "x = \\dfrac{-b \\pm \\sqrt{b^2-4ac}}{2a}\n",
    "$$\n",
    "\n",
    "**Discriminant**"
   ]
  },
  {
   "cell_type": "markdown",
   "id": "316c8fc6",
   "metadata": {},
   "source": [
    "The quantity $\\Delta = b^{2} - 4ac$ is called the **discriminant** of the equation and decides the nature of its solutions. The table below shows the various possibilities.\n",
    "\n",
    "|**Discriminant**|**Roots**|\n",
    "|:--|--:|\n",
    "|$$\\Delta = b^{2} - 4ac = 0$$|A single solution of $-b/(2a)$|\n",
    "|$$\\Delta = b^{2} - 4ac > 0$$|Two distinct solutions|\n",
    "|$$\\Delta = b^{2} - 4ac < 0$$|No real solutions; both are complex.|"
   ]
  },
  {
   "cell_type": "markdown",
   "id": "63a0cccf",
   "metadata": {},
   "source": [
    "## Exercise 2 :  In your own words"
   ]
  },
  {
   "cell_type": "markdown",
   "id": "ad230633",
   "metadata": {},
   "source": [
    "\n",
    "\n",
    "\n",
    "# Your solution here\n",
    "1. What is a repository?\n",
    "- It contains all of the project files and each file's revision history.\n",
    "\n",
    "2. Git keep tracks of changes in the files in our repository.\n",
    "\n",
    "3. What is a commit?\n",
    "- It is a snapshot of the current state of repository and the history leading up to the current state.\n",
    "\n",
    "4. What is a push?\n",
    "- It is a function that transfer commits from local repository content to a remote repository.\n",
    "\n",
    "5. What is the difference between GitHub and GitHub Desktop?\n",
    "- GitHub is a cloud-based hosting platform that enables developers to manage their Git repositories. GitHub Desktop is an application that lets users interact better with GitHub through a GUI.\n",
    "\n",
    "6. Is there an ‘opposite’ to a push?\n",
    "- git fetch.\n"
   ]
  }
 ],
 "metadata": {
  "kernelspec": {
   "display_name": "Python 3 (ipykernel)",
   "language": "python",
   "name": "python3"
  },
  "language_info": {
   "codemirror_mode": {
    "name": "ipython",
    "version": 3
   },
   "file_extension": ".py",
   "mimetype": "text/x-python",
   "name": "python",
   "nbconvert_exporter": "python",
   "pygments_lexer": "ipython3",
   "version": "3.11.1"
  },
  "toc": {
   "base_numbering": 1,
   "nav_menu": {},
   "number_sections": true,
   "sideBar": true,
   "skip_h1_title": false,
   "title_cell": "Table of Contents",
   "title_sidebar": "Contents",
   "toc_cell": false,
   "toc_position": {},
   "toc_section_display": true,
   "toc_window_display": false
  },
  "vscode": {
   "interpreter": {
    "hash": "31f2aee4e71d21fbe5cf8b01ff0e069b9275f58929596ceb00d14d90e3e16cd6"
   }
  }
 },
 "nbformat": 4,
 "nbformat_minor": 5
}
