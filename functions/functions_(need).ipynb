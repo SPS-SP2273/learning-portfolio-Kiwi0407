{
 "cells": [
  {
   "cell_type": "markdown",
   "id": "123456",
   "metadata": {},
   "source": [
    "<div style=\"text-align:left;font-size:2em\"><span style=\"font-weight:bolder;font-size:1.25em\">SP2273 | Learning Portfolio</span><br><br><span style=\"font-weight:bold;color:darkred\">Functions (Need)</span></div>"
   ]
  },
  {
   "cell_type": "markdown",
   "id": "fbfd06fb",
   "metadata": {},
   "source": [
    "## 1 User defined functions"
   ]
  },
  {
   "cell_type": "markdown",
   "id": "4de10f50",
   "metadata": {},
   "source": [
    "### 1.1 Named functions that return"
   ]
  },
  {
   "cell_type": "code",
   "execution_count": 1,
   "id": "425f5185",
   "metadata": {},
   "outputs": [],
   "source": [
    "# Your code here\n",
    "# print() is one of the internal function in python\n",
    "# 2 ways to create functions: 'named' and 'anonymous'\n",
    "\n",
    "def greeting(name):\n",
    "    if name == 'Batman':\n",
    "        return 'Hello Batman! So, nice to meet you!'\n",
    "    else:\n",
    "        return f'Hello {name}!'"
   ]
  },
  {
   "cell_type": "code",
   "execution_count": 2,
   "id": "05dc0ba8",
   "metadata": {},
   "outputs": [
    {
     "data": {
      "text/plain": [
       "'Hello Super Man!'"
      ]
     },
     "execution_count": 2,
     "metadata": {},
     "output_type": "execute_result"
    }
   ],
   "source": [
    "greeting(\"Super Man\")"
   ]
  },
  {
   "cell_type": "code",
   "execution_count": 3,
   "id": "d0c503fe",
   "metadata": {},
   "outputs": [
    {
     "data": {
      "text/plain": [
       "'Hello Super Man!'"
      ]
     },
     "execution_count": 3,
     "metadata": {},
     "output_type": "execute_result"
    }
   ],
   "source": [
    "greeting(name=\"Super Man\")\n",
    "\n",
    "# function's name is 'greeting'\n",
    "# accepts single argument called 'name'"
   ]
  },
  {
   "cell_type": "code",
   "execution_count": 4,
   "id": "ccd7a4e3",
   "metadata": {},
   "outputs": [
    {
     "name": "stdout",
     "output_type": "stream",
     "text": [
      "Hello Super Man!\n"
     ]
    }
   ],
   "source": [
    "# 'def' with colon (:) and indentation\n",
    "# 'return' to get return value as output\n",
    "\n",
    "greet = greeting(name = 'Super Man')\n",
    "print(greet)"
   ]
  },
  {
   "cell_type": "code",
   "execution_count": 5,
   "id": "812463f1",
   "metadata": {},
   "outputs": [
    {
     "name": "stdout",
     "output_type": "stream",
     "text": [
      "Hello Super Man!\n"
     ]
    }
   ],
   "source": [
    "print(greeting(name = 'Super Man'))"
   ]
  },
  {
   "cell_type": "code",
   "execution_count": 20,
   "id": "8645f26c",
   "metadata": {},
   "outputs": [
    {
     "name": "stdout",
     "output_type": "stream",
     "text": [
      "The answer is (1, 5, 3.0)\n"
     ]
    }
   ],
   "source": [
    "# 'return' can only be used within a function\n",
    "# eg: list and returns max, min and mean\n",
    "\n",
    "def basic_stats(numbers):\n",
    "    np_numbers = np.array(numbers)\n",
    "    return np_numbers.min(), np_numbers.max(), np_numbers.mean()\n",
    "list_min, list_max, list_mean = basic_stats([1, 2, 3, 4, 5])\n",
    "\n",
    "print(f\"The answer is {list_min, list_max, list_mean}\")"
   ]
  },
  {
   "cell_type": "markdown",
   "id": "695f1b7e",
   "metadata": {},
   "source": [
    "### 1.2 Named functions that don’t return"
   ]
  },
  {
   "cell_type": "code",
   "execution_count": null,
   "id": "e40a7789",
   "metadata": {},
   "outputs": [],
   "source": [
    "# Your code here\n",
    "# function may not return anything\n",
    "# eg: print() does not return a value"
   ]
  },
  {
   "cell_type": "markdown",
   "id": "c87207c1",
   "metadata": {},
   "source": [
    "### 1.3 Anonymous functions"
   ]
  },
  {
   "cell_type": "code",
   "execution_count": 21,
   "id": "7741402f",
   "metadata": {},
   "outputs": [],
   "source": [
    "# Your code here\n",
    "# anonymous or 'lambda' functions are suitable one-liners\n",
    "# examples accept single argument termed 'name'\n",
    "\n",
    "my_short_function = lambda name: f\"Hello {name}!\""
   ]
  },
  {
   "cell_type": "code",
   "execution_count": 22,
   "id": "533a5183",
   "metadata": {},
   "outputs": [
    {
     "data": {
      "text/plain": [
       "'Hello Super Man!'"
      ]
     },
     "execution_count": 22,
     "metadata": {},
     "output_type": "execute_result"
    }
   ],
   "source": [
    "my_short_function(name = \"Super Man\")\n",
    "\n",
    "# 'lambda' always return value of last statement"
   ]
  },
  {
   "cell_type": "code",
   "execution_count": 27,
   "id": "0202c9e7",
   "metadata": {},
   "outputs": [
    {
     "data": {
      "text/plain": [
       "[[0, 9, 19],\n",
       " [1, 8, 18],\n",
       " [2, 7, 17],\n",
       " [3, 6, 16],\n",
       " [4, 5, 15],\n",
       " [5, 4, 14],\n",
       " [6, 3, 13],\n",
       " [7, 2, 12],\n",
       " [8, 1, 11],\n",
       " [9, 0, 10]]"
      ]
     },
     "execution_count": 27,
     "metadata": {},
     "output_type": "execute_result"
    }
   ],
   "source": [
    "# sorting a 2D list by using 'sorted()' function\n",
    "numbers=[[9, 0, 10],\n",
    "         [8, 1, 11],\n",
    "         [7, 2, 12],\n",
    "         [6, 3, 13],\n",
    "         [5, 4, 14],\n",
    "         [4, 5, 15],\n",
    "         [3, 6, 16],\n",
    "         [2, 7, 17],\n",
    "         [1, 8, 18],\n",
    "         [0, 9, 19]]\n",
    "\n",
    "sorted(numbers)                         # Sort by comparing the default key \n",
    "                                        # (i.e. the 1st element) "
   ]
  },
  {
   "cell_type": "code",
   "execution_count": 25,
   "id": "59e9f17a",
   "metadata": {},
   "outputs": [
    {
     "data": {
      "text/plain": [
       "[[0, 9, 19],\n",
       " [1, 8, 18],\n",
       " [2, 7, 17],\n",
       " [3, 6, 16],\n",
       " [4, 0, 10],\n",
       " [5, 4, 14],\n",
       " [6, 3, 13],\n",
       " [7, 2, 12],\n",
       " [8, 1, 11],\n",
       " [9, 0, 10]]"
      ]
     },
     "execution_count": 25,
     "metadata": {},
     "output_type": "execute_result"
    }
   ],
   "source": [
    "numbers=[[4, 0, 10],\n",
    "         [8, 1, 11],\n",
    "         [7, 2, 12],\n",
    "         [6, 3, 13],\n",
    "         [5, 4, 14],\n",
    "         [9, 0, 10],\n",
    "         [0, 9, 19],\n",
    "         [1, 8, 18],\n",
    "         [2, 7, 17],\n",
    "         [3, 6, 16]]\n",
    "\n",
    "sorted(numbers)                         # Sort according to key\n",
    "                                        # regardless of the order"
   ]
  },
  {
   "cell_type": "code",
   "execution_count": 32,
   "id": "19d016a3",
   "metadata": {},
   "outputs": [
    {
     "data": {
      "text/plain": [
       "[[9, 0, 10],\n",
       " [8, 1, 11],\n",
       " [7, 2, 12],\n",
       " [6, 3, 13],\n",
       " [5, 4, 14],\n",
       " [4, 5, 15],\n",
       " [3, 6, 16],\n",
       " [2, 7, 17],\n",
       " [1, 8, 18],\n",
       " [0, 9, 19]]"
      ]
     },
     "execution_count": 32,
     "metadata": {},
     "output_type": "execute_result"
    }
   ],
   "source": [
    "# sorting based on first element of sub-lists\n",
    "# criteria requires a specific 'key'\n",
    "# lambda function\n",
    "\n",
    "numbers=[[4, 5, 15],\n",
    "         [8, 1, 11],\n",
    "         [7, 2, 12],\n",
    "         [6, 3, 13],\n",
    "         [5, 4, 14],\n",
    "         [9, 0, 10],\n",
    "         [0, 9, 19],\n",
    "         [1, 8, 18],\n",
    "         [2, 7, 17],\n",
    "         [3, 6, 16]]\n",
    "\n",
    "sorted(numbers, key = lambda x: x[1])     # sort by comparing custom key\n",
    "                                          # that uses 2nd element\n",
    "                                          # refer to table in storing data (good)\n",
    "                                          # x[1] slices the second element\n",
    "                                          # python starts first element from 0\n",
    "# lambda expresses the argument\n",
    "# "
   ]
  },
  {
   "cell_type": "code",
   "execution_count": 31,
   "id": "e167d077",
   "metadata": {},
   "outputs": [
    {
     "data": {
      "text/plain": [
       "[[9, 0, 10],\n",
       " [8, 1, 11],\n",
       " [7, 2, 12],\n",
       " [6, 3, 13],\n",
       " [5, 4, 14],\n",
       " [4, 5, 15],\n",
       " [3, 6, 16],\n",
       " [2, 7, 17],\n",
       " [1, 8, 18],\n",
       " [0, 9, 19]]"
      ]
     },
     "execution_count": 31,
     "metadata": {},
     "output_type": "execute_result"
    }
   ],
   "source": [
    "numbers=[[4, 5, 15],\n",
    "         [8, 1, 11],\n",
    "         [7, 2, 12],\n",
    "         [6, 3, 13],\n",
    "         [5, 4, 14],\n",
    "         [9, 0, 10],\n",
    "         [0, 9, 19],\n",
    "         [1, 8, 18],\n",
    "         [2, 7, 17],\n",
    "         [3, 6, 16]]\n",
    "\n",
    "sorted(numbers, key=lambda x: sum(x))   # Sort by comparing a custom key\n",
    "                                        # that uses the sum of the elements"
   ]
  },
  {
   "cell_type": "markdown",
   "id": "0bb9fed3",
   "metadata": {},
   "source": [
    "### 1.4 Optional arguments"
   ]
  },
  {
   "cell_type": "code",
   "execution_count": 35,
   "id": "4c2e907c",
   "metadata": {},
   "outputs": [
    {
     "name": "stdout",
     "output_type": "stream",
     "text": [
      "Hello no one!\n"
     ]
    }
   ],
   "source": [
    "# Your code here\n",
    "# giving argument a default value\n",
    "\n",
    "def greeting(name='no one'):\n",
    "    if name == 'Batman':\n",
    "        return 'Hello Batman! So, nice to meet you!'\n",
    "    else:\n",
    "        return f'Hello {name}!'\n",
    "print(greeting())"
   ]
  },
  {
   "cell_type": "code",
   "execution_count": 36,
   "id": "81a3b195",
   "metadata": {},
   "outputs": [
    {
     "data": {
      "text/plain": [
       "'Hello no one!'"
      ]
     },
     "execution_count": 36,
     "metadata": {},
     "output_type": "execute_result"
    }
   ],
   "source": [
    "# running function without argument\n",
    "greeting()"
   ]
  },
  {
   "cell_type": "code",
   "execution_count": 37,
   "id": "fde792e0",
   "metadata": {},
   "outputs": [],
   "source": [
    "?print"
   ]
  },
  {
   "cell_type": "markdown",
   "id": "a66a4a5e",
   "metadata": {},
   "source": [
    "Docstring:\n",
    "print(value, ..., sep=' ', end='\\n', file=sys.stdout, flush=False)\n",
    "\n",
    "Prints the values to a stream, or to sys.stdout by default.\n",
    "Optional keyword arguments:\n",
    "file:  a file-like object (stream); defaults to the current sys.stdout.\n",
    "sep:   string inserted between values, default a space.\n",
    "end:   string appended after the last value, default a newline.\n",
    "flush: whether to forcibly flush the stream.\n",
    "Type:      builtin_function_or_method"
   ]
  },
  {
   "cell_type": "code",
   "execution_count": 39,
   "id": "c72a5643",
   "metadata": {},
   "outputs": [
    {
     "name": "stdout",
     "output_type": "stream",
     "text": [
      "I am Batman!\n",
      "I---am---Batman!\n"
     ]
    }
   ],
   "source": [
    "# print() accept other arguments\n",
    "# also optional with default values\n",
    "# to specify them:\n",
    "\n",
    "print('I', 'am', 'Batman!')                 # Just for comparison\n",
    "#> I am Batman!\n",
    "print('I', 'am', 'Batman!', sep='---')      # sep = seperation?\n",
    "#> I---am---Batman!"
   ]
  },
  {
   "cell_type": "markdown",
   "id": "27ad51d3",
   "metadata": {},
   "source": [
    "## 2 The importance of functions?"
   ]
  },
  {
   "cell_type": "markdown",
   "id": "0e1050eb",
   "metadata": {},
   "source": [
    "### 2.1 An argument for functions"
   ]
  },
  {
   "cell_type": "code",
   "execution_count": null,
   "id": "677b130b",
   "metadata": {},
   "outputs": [],
   "source": [
    "# Your code here\n",
    "# abstraction of details: putting solution into chunks (functions)\n",
    "# reusability of code: encapsulate code in function\n",
    "# maintainability of code: make changes in one place"
   ]
  },
  {
   "cell_type": "markdown",
   "id": "67b19bdc",
   "metadata": {},
   "source": [
    "### 2.2 A word of caution"
   ]
  },
  {
   "cell_type": "code",
   "execution_count": null,
   "id": "a1f05394",
   "metadata": {},
   "outputs": [],
   "source": [
    "# Your code here\n",
    "# don't do too many arguments\n",
    "# don't overuse"
   ]
  },
  {
   "cell_type": "markdown",
   "id": "f97b239b",
   "metadata": {},
   "source": [
    "## Exercise 1 :  Do you know why?"
   ]
  },
  {
   "cell_type": "code",
   "execution_count": 32,
   "id": "2dde217c",
   "metadata": {},
   "outputs": [
    {
     "name": "stdout",
     "output_type": "stream",
     "text": [
      "Hello Batman! So, nice to meet you!\n",
      "Hello Kiwi!\n"
     ]
    }
   ],
   "source": [
    "# Your solution here\n",
    "def greeting(name):\n",
    "    if name == 'Batman':\n",
    "        return 'Hello Batman! So, nice to meet you!'\n",
    "    return f'Hello {name}!'\n",
    "print(greeting('Batman'))\n",
    "print(greeting('Kiwi'))"
   ]
  },
  {
   "cell_type": "code",
   "execution_count": 47,
   "id": "0e108da2",
   "metadata": {},
   "outputs": [
    {
     "name": "stdout",
     "output_type": "stream",
     "text": [
      "Hello Batman! So, nice to meet you!\n",
      "None\n"
     ]
    }
   ],
   "source": [
    "def greeting(name):\n",
    "    if name == 'Batman':\n",
    "        return 'Hello Batman! So, nice to meet you!'\n",
    "        return f'Hello {name}!'\n",
    "print(greeting('Batman'))\n",
    "print(greeting('Kiwi'))"
   ]
  },
  {
   "cell_type": "markdown",
   "id": "f254e485",
   "metadata": {},
   "source": [
    "`else` statement is an optional statement. Hence when the condition defined here, which is `if name == 'Batman'`, is not met, the code will automatically ignores the `return 'Hello Batman! So, nice to meet you!'` and runs `return f'Hello {name}!'` instead. This is so as there is an indention in the first cell for `return f'Hello {name}!'` such that it replaces the `else` in that position. As compared to the second cell, when `return f'Hello {name}!'` is on the same indention as `return 'Hello Batman! So, nice to meet you!'`, there is no else alternative and the output is shown as `None`."
   ]
  },
  {
   "cell_type": "markdown",
   "id": "2427e5f3",
   "metadata": {},
   "source": [
    "## Exercise 2 :  Calculator functions"
   ]
  },
  {
   "cell_type": "code",
   "execution_count": 5,
   "id": "4e46e5b2",
   "metadata": {},
   "outputs": [
    {
     "name": "stdout",
     "output_type": "stream",
     "text": [
      "3\n"
     ]
    }
   ],
   "source": [
    "# Your solution here\n",
    "def add(x, y): \n",
    "    return x + y\n",
    "print(add(1, 2))"
   ]
  },
  {
   "cell_type": "code",
   "execution_count": 6,
   "id": "9a57915b",
   "metadata": {},
   "outputs": [
    {
     "name": "stdout",
     "output_type": "stream",
     "text": [
      "1\n"
     ]
    }
   ],
   "source": [
    "def subtract(x, y):\n",
    "    return x - y\n",
    "print(subtract(2, 1))"
   ]
  },
  {
   "cell_type": "code",
   "execution_count": 7,
   "id": "c57e4939",
   "metadata": {},
   "outputs": [
    {
     "name": "stdout",
     "output_type": "stream",
     "text": [
      "2\n"
     ]
    }
   ],
   "source": [
    "def multiply(x, y):\n",
    "    return x * y\n",
    "print(multiply(1, 2))"
   ]
  },
  {
   "cell_type": "code",
   "execution_count": 8,
   "id": "920f76fd",
   "metadata": {},
   "outputs": [],
   "source": [
    "# add an 'if' condition to admonish division user by zero\n",
    "# exit() or quit() to force stop python\n",
    "\n",
    "def divide(x, y):\n",
    "    if np.all(y < 0):\n",
    "        return exit()\n",
    "    return x / y"
   ]
  },
  {
   "cell_type": "code",
   "execution_count": 9,
   "id": "fd07f06d",
   "metadata": {},
   "outputs": [
    {
     "data": {
      "text/plain": [
       "array([100, 100, 100, 100, 100])"
      ]
     },
     "execution_count": 9,
     "metadata": {},
     "output_type": "execute_result"
    }
   ],
   "source": [
    "x=np.array([36, 34, 44, 76, 27])\n",
    "y=np.array([64, 66, 56, 24, 73])\n",
    "\n",
    "add(x, y)"
   ]
  },
  {
   "cell_type": "code",
   "execution_count": 10,
   "id": "39ef562f",
   "metadata": {},
   "outputs": [
    {
     "data": {
      "text/plain": [
       "array([-28, -32, -12,  52, -46])"
      ]
     },
     "execution_count": 10,
     "metadata": {},
     "output_type": "execute_result"
    }
   ],
   "source": [
    "subtract(x, y)"
   ]
  },
  {
   "cell_type": "code",
   "execution_count": 12,
   "id": "bcd079d3",
   "metadata": {
    "scrolled": true
   },
   "outputs": [
    {
     "data": {
      "text/plain": [
       "array([2304, 2244, 2464, 1824, 1971])"
      ]
     },
     "execution_count": 12,
     "metadata": {},
     "output_type": "execute_result"
    }
   ],
   "source": [
    "multiply(x, y)"
   ]
  },
  {
   "cell_type": "code",
   "execution_count": 1,
   "id": "d289ca61",
   "metadata": {},
   "outputs": [
    {
     "data": {
      "text/plain": [
       "array([0.5625    , 0.51515152, 0.78571429, 3.16666667, 0.36986301])"
      ]
     },
     "execution_count": 1,
     "metadata": {},
     "output_type": "execute_result"
    }
   ],
   "source": [
    "import numpy as np\n",
    "\n",
    "x = np.array([36, 34, 44, 76, 27])\n",
    "y = np.array([64, 66, 56, 24, 73])\n",
    "\n",
    "def divide(x, y):\n",
    "    if np.all(y < 0):\n",
    "        return exit()\n",
    "    return x / y\n",
    "\n",
    "divide(x, y)"
   ]
  },
  {
   "cell_type": "code",
   "execution_count": 9,
   "id": "dec3d900",
   "metadata": {},
   "outputs": [
    {
     "name": "stdout",
     "output_type": "stream",
     "text": [
      "True\n",
      "True\n",
      "1.0\n"
     ]
    }
   ],
   "source": [
    "x = 2\n",
    "y = 2\n",
    "\n",
    "def divide(x, y):\n",
    "    print(isinstance(x, (int, float, list)))\n",
    "    print(isinstance(y, (int, float, list)))\n",
    "    if y == 0:\n",
    "        return exit()\n",
    "    return x / y\n",
    "print(divide(x, y))\n",
    "\n",
    "\n",
    "# x.all() or x.any() works for arrays (and list?)\n",
    "# doesn't work if u define x and y by a single element\n",
    "\n",
    "# using isinstance() to check\n",
    "# such that it can accept integers, floats and arrays"
   ]
  },
  {
   "cell_type": "markdown",
   "id": "5539559d",
   "metadata": {},
   "source": [
    "## Exercise 3 :  max_info() with NumPy"
   ]
  },
  {
   "cell_type": "code",
   "execution_count": 18,
   "id": "5818eaa5",
   "metadata": {},
   "outputs": [
    {
     "name": "stdout",
     "output_type": "stream",
     "text": [
      "The number is 83 located at index 2 of this list.\n"
     ]
    }
   ],
   "source": [
    "# Your solution here\n",
    "def max_info(numbers):\n",
    "    return f'The number is {np.max(numbers)} located at index {np.argmax(numbers)} of this list.'\n",
    "\n",
    "numbers = [40, 27, 83, 44, 74, 51, 76, 77, 10, 49]\n",
    "print(max_info(numbers))"
   ]
  }
 ],
 "metadata": {
  "kernelspec": {
   "display_name": "Python 3 (ipykernel)",
   "language": "python",
   "name": "python3"
  },
  "language_info": {
   "codemirror_mode": {
    "name": "ipython",
    "version": 3
   },
   "file_extension": ".py",
   "mimetype": "text/x-python",
   "name": "python",
   "nbconvert_exporter": "python",
   "pygments_lexer": "ipython3",
   "version": "3.10.8"
  },
  "toc": {
   "base_numbering": 1,
   "nav_menu": {},
   "number_sections": true,
   "sideBar": true,
   "skip_h1_title": false,
   "title_cell": "Table of Contents",
   "title_sidebar": "Contents",
   "toc_cell": false,
   "toc_position": {},
   "toc_section_display": true,
   "toc_window_display": false
  },
  "varInspector": {
   "cols": {
    "lenName": 16,
    "lenType": 16,
    "lenVar": 40
   },
   "kernels_config": {
    "python": {
     "delete_cmd_postfix": "",
     "delete_cmd_prefix": "del ",
     "library": "var_list.py",
     "varRefreshCmd": "print(var_dic_list())"
    },
    "r": {
     "delete_cmd_postfix": ") ",
     "delete_cmd_prefix": "rm(",
     "library": "var_list.r",
     "varRefreshCmd": "cat(var_dic_list()) "
    }
   },
   "types_to_exclude": [
    "module",
    "function",
    "builtin_function_or_method",
    "instance",
    "_Feature"
   ],
   "window_display": false
  },
  "vscode": {
   "interpreter": {
    "hash": "31f2aee4e71d21fbe5cf8b01ff0e069b9275f58929596ceb00d14d90e3e16cd6"
   }
  }
 },
 "nbformat": 4,
 "nbformat_minor": 5
}
