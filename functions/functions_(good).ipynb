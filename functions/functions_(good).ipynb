{
 "cells": [
  {
   "cell_type": "markdown",
   "id": "123456",
   "metadata": {},
   "source": [
    "<div style=\"text-align:left;font-size:2em\"><span style=\"font-weight:bolder;font-size:1.25em\">SP2273 | Learning Portfolio</span><br><br><span style=\"font-weight:bold;color:darkred\">Functions (Good)</span></div>"
   ]
  },
  {
   "cell_type": "markdown",
   "id": "30b2e91a",
   "metadata": {},
   "source": [
    "## 1 Check, balances and contingencies"
   ]
  },
  {
   "cell_type": "markdown",
   "id": "57a56d36",
   "metadata": {},
   "source": [
    "### 1.1 assert"
   ]
  },
  {
   "cell_type": "code",
   "execution_count": null,
   "id": "718bf8fa",
   "metadata": {},
   "outputs": [],
   "source": [
    "# Your code here\n",
    "# assert can check condition and halt execution \n",
    "# option of printing a message too\n",
    "# basic syntax:\n",
    "\n",
    "assert condition-to-check, message"
   ]
  },
  {
   "cell_type": "code",
   "execution_count": 20,
   "id": "b3cbeaf7",
   "metadata": {},
   "outputs": [
    {
     "name": "stdout",
     "output_type": "stream",
     "text": [
      "1\n"
     ]
    }
   ],
   "source": [
    "# 'assert' stops flow if condition fails\n",
    "# this will run without a problem\n",
    "\n",
    "x = 1\n",
    "assert x >= 0, \"x is becoming negative!\"\n",
    "print(x)\n",
    "\n",
    "# this will run as long as condition is true\n",
    "# if fails, 'AssertationError' is raised and stops running"
   ]
  },
  {
   "cell_type": "code",
   "execution_count": 21,
   "id": "fc3b6dc0",
   "metadata": {},
   "outputs": [
    {
     "name": "stdout",
     "output_type": "stream",
     "text": [
      "10\n"
     ]
    }
   ],
   "source": [
    "# this will run without a problem\n",
    "\n",
    "x = 10\n",
    "assert x >= 0, \"x is becoming negative!\"\n",
    "print(x)"
   ]
  },
  {
   "cell_type": "code",
   "execution_count": 23,
   "id": "1de25da7",
   "metadata": {},
   "outputs": [
    {
     "ename": "AssertionError",
     "evalue": "x is becoming negative!",
     "output_type": "error",
     "traceback": [
      "\u001b[1;31m---------------------------------------------------------------------------\u001b[0m",
      "\u001b[1;31mAssertionError\u001b[0m                            Traceback (most recent call last)",
      "Cell \u001b[1;32mIn[23], line 4\u001b[0m\n\u001b[0;32m      1\u001b[0m \u001b[38;5;66;03m# this one will NOT run\u001b[39;00m\n\u001b[0;32m      3\u001b[0m x \u001b[38;5;241m=\u001b[39m \u001b[38;5;241m-\u001b[39m\u001b[38;5;241m1\u001b[39m\n\u001b[1;32m----> 4\u001b[0m \u001b[38;5;28;01massert\u001b[39;00m x \u001b[38;5;241m>\u001b[39m\u001b[38;5;241m=\u001b[39m \u001b[38;5;241m0\u001b[39m, \u001b[38;5;124m\"\u001b[39m\u001b[38;5;124mx is becoming negative!\u001b[39m\u001b[38;5;124m\"\u001b[39m\n\u001b[0;32m      5\u001b[0m \u001b[38;5;28mprint\u001b[39m(x)\n",
      "\u001b[1;31mAssertionError\u001b[0m: x is becoming negative!"
     ]
    }
   ],
   "source": [
    "# this one will NOT run\n",
    "\n",
    "x = -1\n",
    "assert x >= 0, \"x is becoming negative!\"\n",
    "print(x)"
   ]
  },
  {
   "cell_type": "markdown",
   "id": "42118c31",
   "metadata": {},
   "source": [
    "### 1.2 try-except"
   ]
  },
  {
   "cell_type": "code",
   "execution_count": 11,
   "id": "87010417",
   "metadata": {},
   "outputs": [
    {
     "name": "stdout",
     "output_type": "stream",
     "text": [
      "Give me a number and I will calculate its square.2\n",
      "The square of 2 is 4!\n"
     ]
    }
   ],
   "source": [
    "# Your code here\n",
    "# exceptions = basically screw up alr\n",
    "# eg. division by zero = ZeroDivisionError\n",
    "\n",
    "# input()\n",
    "# ask for a number\n",
    "\n",
    "number=input(\"Give me a number and I will calculate its square.\")\n",
    "square=int(number)**2              # Convert English to number\n",
    "print(f'The square of {number} is {square}!')"
   ]
  },
  {
   "cell_type": "code",
   "execution_count": 29,
   "id": "6a73e13e",
   "metadata": {},
   "outputs": [
    {
     "name": "stdout",
     "output_type": "stream",
     "text": [
      "Give me a number and I will calculate its square.test\n",
      "Oh oh! I cannot square test!\n"
     ]
    }
   ],
   "source": [
    "try:\n",
    "    number = input(\"Give me a number and I will calculate its square.\")\n",
    "    square = int(number) ** 2\n",
    "    print(f'The square of {number} is {square}!')\n",
    "except:\n",
    "    print(f\"Oh oh! I cannot square {number}!\")\n",
    "    \n",
    "# if something screws up, it runs the code in 'except' block\n",
    "# everything else is protected within the 'try' block"
   ]
  },
  {
   "cell_type": "markdown",
   "id": "cd491d55",
   "metadata": {},
   "source": [
    "## 2 Some loose ends"
   ]
  },
  {
   "cell_type": "markdown",
   "id": "e4a0f145",
   "metadata": {},
   "source": [
    "### 2.1 Positional, keyword and default arguments"
   ]
  },
  {
   "cell_type": "code",
   "execution_count": 11,
   "id": "77979206",
   "metadata": {},
   "outputs": [
    {
     "name": "stdout",
     "output_type": "stream",
     "text": [
      "321\n"
     ]
    }
   ],
   "source": [
    "# Your code here\n",
    "# 3 'ways' to pass value to argument aka the title\n",
    "\n",
    "def funny_add(a, b, c = 1):\n",
    "    return a + 10*b + 100*c\n",
    "print(funny_add(1, 2, 3))\n",
    "\n",
    "# calling function funny_add(1,2,3) = 1,2,3 to a,b,c in this order\n",
    "# funny_add(c=3, b=1, a-2) order doesn't matter\n",
    "# c is optional\n",
    "# specify c to be 1 here -.-"
   ]
  },
  {
   "cell_type": "code",
   "execution_count": 12,
   "id": "cefa7249",
   "metadata": {},
   "outputs": [
    {
     "data": {
      "text/plain": [
       "121"
      ]
     },
     "execution_count": 12,
     "metadata": {},
     "output_type": "execute_result"
    }
   ],
   "source": [
    "# examples to combine the three styles\n",
    "# keyword followed by positional doesn't work (exception)\n",
    "\n",
    "def funny_add(a, b, c = 1):      \n",
    "    return a + 10*b + 100*c\n",
    "\n",
    "funny_add(1, 2)           # Two positional, 1 default\n",
    "#> 121"
   ]
  },
  {
   "cell_type": "code",
   "execution_count": 13,
   "id": "5462b9be",
   "metadata": {},
   "outputs": [
    {
     "data": {
      "text/plain": [
       "321"
      ]
     },
     "execution_count": 13,
     "metadata": {},
     "output_type": "execute_result"
    }
   ],
   "source": [
    "funny_add(1, 2, 3)        # Three positional\n",
    "#> 321"
   ]
  },
  {
   "cell_type": "code",
   "execution_count": 14,
   "id": "e17d122b",
   "metadata": {},
   "outputs": [
    {
     "data": {
      "text/plain": [
       "121"
      ]
     },
     "execution_count": 14,
     "metadata": {},
     "output_type": "execute_result"
    }
   ],
   "source": [
    "funny_add(a=1, b=2)       # Two keyword, 1 default\n",
    "#> 121"
   ]
  },
  {
   "cell_type": "code",
   "execution_count": 15,
   "id": "5d87fa92",
   "metadata": {},
   "outputs": [
    {
     "data": {
      "text/plain": [
       "312"
      ]
     },
     "execution_count": 15,
     "metadata": {},
     "output_type": "execute_result"
    }
   ],
   "source": [
    "funny_add(c=3, b=1, a=2)  # Three keyword\n",
    "#> 312"
   ]
  },
  {
   "cell_type": "code",
   "execution_count": 16,
   "id": "1c29a9d6",
   "metadata": {},
   "outputs": [
    {
     "data": {
      "text/plain": [
       "321"
      ]
     },
     "execution_count": 16,
     "metadata": {},
     "output_type": "execute_result"
    }
   ],
   "source": [
    "funny_add(1, c=3, b=2)    # One positional, 2 keyword\n",
    "#> 321"
   ]
  },
  {
   "cell_type": "code",
   "execution_count": 17,
   "id": "0397f25a",
   "metadata": {},
   "outputs": [
    {
     "data": {
      "text/plain": [
       "121"
      ]
     },
     "execution_count": 17,
     "metadata": {},
     "output_type": "execute_result"
    }
   ],
   "source": [
    "funny_add(1, b=2)         # One positional, 1 keyword, 1 default\n",
    "#> 121"
   ]
  },
  {
   "cell_type": "code",
   "execution_count": 18,
   "id": "589ad5c7",
   "metadata": {},
   "outputs": [
    {
     "ename": "SyntaxError",
     "evalue": "positional argument follows keyword argument (2965552651.py, line 3)",
     "output_type": "error",
     "traceback": [
      "\u001b[1;36m  Cell \u001b[1;32mIn[18], line 3\u001b[1;36m\u001b[0m\n\u001b[1;33m    funny_add(a=2, 1)         # Won't work.\u001b[0m\n\u001b[1;37m                    ^\u001b[0m\n\u001b[1;31mSyntaxError\u001b[0m\u001b[1;31m:\u001b[0m positional argument follows keyword argument\n"
     ]
    }
   ],
   "source": [
    "# exception: keyword followed by positional\n",
    "\n",
    "funny_add(a=2, 1)         # Won't work.\n",
    "                          # Keywords cannot be followed by \n",
    "                          # positional\n",
    "# python cannot unambiguously figure out where the heck is 1"
   ]
  },
  {
   "cell_type": "markdown",
   "id": "557b9834",
   "metadata": {},
   "source": [
    "### 2.2 Docstrings"
   ]
  },
  {
   "cell_type": "code",
   "execution_count": 9,
   "id": "89f41874",
   "metadata": {},
   "outputs": [],
   "source": [
    "# Your code here\n",
    "# docstring that document what a function does inside function\n",
    "# documentation displayed using help()\n",
    "\n",
    "def funny_add(a, b, c=1):\n",
    "    '''\n",
    "    A test function to demonstrate how \n",
    "    positional, keyword and default arguments \n",
    "    work.\n",
    "    '''\n",
    "    return a + 10*b + 100*c"
   ]
  },
  {
   "cell_type": "code",
   "execution_count": 10,
   "id": "02f37c7b",
   "metadata": {},
   "outputs": [
    {
     "name": "stdout",
     "output_type": "stream",
     "text": [
      "Help on function funny_add in module __main__:\n",
      "\n",
      "funny_add(a, b, c=1)\n",
      "    A test function to demonstrate how \n",
      "    positional, keyword and default arguments \n",
      "    work.\n",
      "\n"
     ]
    }
   ],
   "source": [
    "# docstring sandwiched between a pair of ''' or (\"\"\")\n",
    "# can span multiple lines\n",
    "\n",
    "help(funny_add)\n",
    "\n",
    "# can work for multiline comments but not recommended"
   ]
  },
  {
   "cell_type": "markdown",
   "id": "9210b465",
   "metadata": {},
   "source": [
    "### 2.3 Function are first class citizens"
   ]
  },
  {
   "cell_type": "code",
   "execution_count": 6,
   "id": "2e5dd25c",
   "metadata": {},
   "outputs": [
    {
     "data": {
      "text/plain": [
       "1.0"
      ]
     },
     "execution_count": 6,
     "metadata": {},
     "output_type": "execute_result"
    }
   ],
   "source": [
    "# Your code here\n",
    "# passing function as an argument to another function\n",
    "\n",
    "def my_function(angle, trig_function):\n",
    "        return trig_function(angle)\n",
    "\n",
    "# Let's use the function\n",
    "my_function(np.pi/2, np.sin)        \n",
    "#> 1.0\n",
    "# sin(pi/2)\n",
    "\n",
    "# we do not include parenthesis when passing function as argument"
   ]
  },
  {
   "cell_type": "code",
   "execution_count": 7,
   "id": "fa81df44",
   "metadata": {},
   "outputs": [
    {
     "data": {
      "text/plain": [
       "6.123233995736766e-17"
      ]
     },
     "execution_count": 7,
     "metadata": {},
     "output_type": "execute_result"
    }
   ],
   "source": [
    "my_function(np.pi/2, np.cos)        \n",
    "#> 6.123233995736766e-17\n",
    "# cos(pi/2) huh?"
   ]
  },
  {
   "cell_type": "code",
   "execution_count": 8,
   "id": "ae9f38ff",
   "metadata": {},
   "outputs": [
    {
     "data": {
      "text/plain": [
       "-1.0"
      ]
     },
     "execution_count": 8,
     "metadata": {},
     "output_type": "execute_result"
    }
   ],
   "source": [
    "my_function(np.pi/2, lambda x: np.cos(2*x))  \n",
    "#> -1.0\n",
    "# cos(2*pi/2 = pi)"
   ]
  },
  {
   "cell_type": "markdown",
   "id": "a9a6aedc",
   "metadata": {},
   "source": [
    "### 2.4 More unpacking"
   ]
  },
  {
   "cell_type": "code",
   "execution_count": 1,
   "id": "7c046442",
   "metadata": {},
   "outputs": [
    {
     "name": "stdout",
     "output_type": "stream",
     "text": [
      "1 2 3\n"
     ]
    }
   ],
   "source": [
    "# Your code here\n",
    "# example 1\n",
    "x, y, z = [1, 2, 3]\n",
    "print(x, y, z)"
   ]
  },
  {
   "cell_type": "code",
   "execution_count": 2,
   "id": "cb08adc4",
   "metadata": {},
   "outputs": [
    {
     "name": "stdout",
     "output_type": "stream",
     "text": [
      "1 2 3\n"
     ]
    }
   ],
   "source": [
    "# example 2\n",
    "x, y, z = np.array([1, 2, 3])\n",
    "print(x, y, z)"
   ]
  },
  {
   "cell_type": "code",
   "execution_count": 3,
   "id": "8922a07d",
   "metadata": {},
   "outputs": [
    {
     "name": "stdout",
     "output_type": "stream",
     "text": [
      "1 [2, 3, 4] 5\n"
     ]
    }
   ],
   "source": [
    "# example 3\n",
    "x, *y, z = np.array([1, 2, 3, 4, 5])     # * before y groups them in an array such that x and y each is only designated 1 element\n",
    "print(x, y, z)"
   ]
  },
  {
   "cell_type": "code",
   "execution_count": 4,
   "id": "a58c9d54",
   "metadata": {},
   "outputs": [
    {
     "name": "stdout",
     "output_type": "stream",
     "text": [
      "1 5\n"
     ]
    }
   ],
   "source": [
    "# example 4\n",
    "x, *_, y = [1, 2, 3, 4, 5]\n",
    "print(x, y)"
   ]
  },
  {
   "cell_type": "markdown",
   "id": "34ce1730",
   "metadata": {},
   "source": [
    "## Exercise 1 :  A better calculator I"
   ]
  },
  {
   "cell_type": "code",
   "execution_count": 7,
   "id": "cfefedd7",
   "metadata": {},
   "outputs": [],
   "source": [
    "x = np.array([36, 34, 44, 76, 27])\n",
    "y = np.array([64, 66, 56, 24, 73])"
   ]
  },
  {
   "cell_type": "code",
   "execution_count": 1,
   "id": "e0696082",
   "metadata": {},
   "outputs": [
    {
     "ename": "AssertionError",
     "evalue": "answer is negative!",
     "output_type": "error",
     "traceback": [
      "\u001b[1;31m---------------------------------------------------------------------------\u001b[0m",
      "\u001b[1;31mAssertionError\u001b[0m                            Traceback (most recent call last)",
      "Cell \u001b[1;32mIn[1], line 18\u001b[0m\n\u001b[0;32m     16\u001b[0m         \u001b[38;5;28;01mreturn\u001b[39;00m exit()\n\u001b[0;32m     17\u001b[0m     \u001b[38;5;28;01mreturn\u001b[39;00m x \u001b[38;5;241m/\u001b[39m y\n\u001b[1;32m---> 18\u001b[0m \u001b[38;5;28;01massert\u001b[39;00m np\u001b[38;5;241m.\u001b[39mall(y \u001b[38;5;241m<\u001b[39m \u001b[38;5;241m0\u001b[39m), \u001b[38;5;124m'\u001b[39m\u001b[38;5;124manswer is negative!\u001b[39m\u001b[38;5;124m'\u001b[39m\n\u001b[0;32m     20\u001b[0m divide(x, y)\n",
      "\u001b[1;31mAssertionError\u001b[0m: answer is negative!"
     ]
    }
   ],
   "source": [
    "# Your solution here\n",
    "# redo calculator exercise from previous chapter\n",
    "# use assert\n",
    "\n",
    "# original answer (edited already)\n",
    "#def divide(x, y):\n",
    "#    if np.all(y < 2):\n",
    "#        return exit()\n",
    "#    return x / y\n",
    "#assert y.all() != 0, 'answer is negative!'\n",
    "\n",
    "x = np.array([36, 34, 44, 76, 27])\n",
    "y = np.array([64, 66, 56, 24, 73])\n",
    "\n",
    "def divide(x, y):\n",
    "    if np.all(y < 0):\n",
    "        return exit()\n",
    "    return x / y\n",
    "assert np.all(y < 0), 'answer is negative!'\n",
    "\n",
    "divide(x, y)"
   ]
  },
  {
   "cell_type": "code",
   "execution_count": 9,
   "id": "90730e76",
   "metadata": {},
   "outputs": [],
   "source": [
    "x = np.array([36, 34, 44, 76, 27])\n",
    "y = np.array([64, 0, 56, 24, 73])"
   ]
  },
  {
   "cell_type": "code",
   "execution_count": 10,
   "id": "508d001d",
   "metadata": {},
   "outputs": [
    {
     "ename": "AssertionError",
     "evalue": "answer is negative!",
     "output_type": "error",
     "traceback": [
      "\u001b[1;31m---------------------------------------------------------------------------\u001b[0m",
      "\u001b[1;31mAssertionError\u001b[0m                            Traceback (most recent call last)",
      "Cell \u001b[1;32mIn[10], line 5\u001b[0m\n\u001b[0;32m      3\u001b[0m         \u001b[38;5;28;01mreturn\u001b[39;00m exit()\n\u001b[0;32m      4\u001b[0m     \u001b[38;5;28;01mreturn\u001b[39;00m x \u001b[38;5;241m/\u001b[39m y\n\u001b[1;32m----> 5\u001b[0m \u001b[38;5;28;01massert\u001b[39;00m y\u001b[38;5;241m.\u001b[39mall() \u001b[38;5;241m!=\u001b[39m \u001b[38;5;241m0\u001b[39m, \u001b[38;5;124m'\u001b[39m\u001b[38;5;124manswer is negative!\u001b[39m\u001b[38;5;124m'\u001b[39m\n\u001b[0;32m      7\u001b[0m divide(x, y)\n",
      "\u001b[1;31mAssertionError\u001b[0m: answer is negative!"
     ]
    }
   ],
   "source": [
    "def divide(x, y):\n",
    "    if y.all() == 0:\n",
    "        return exit()\n",
    "    return x / y\n",
    "assert y.all() != 0, 'answer is negative!'\n",
    "\n",
    "divide(x, y)"
   ]
  },
  {
   "cell_type": "markdown",
   "id": "9be3c9d0",
   "metadata": {},
   "source": [
    "## Exercise 2 :  A better calculator II"
   ]
  },
  {
   "cell_type": "code",
   "execution_count": 2,
   "id": "d413df7a",
   "metadata": {},
   "outputs": [
    {
     "name": "stdout",
     "output_type": "stream",
     "text": [
      "[0.5625     0.51515152 0.78571429 3.16666667 0.36986301]\n"
     ]
    }
   ],
   "source": [
    "# Your solution here\n",
    "# redo calculator exercise (again -.-) from previous chapter\n",
    "# use try-except\n",
    "\n",
    "def divide(x, y):\n",
    "    try:\n",
    "        # y.all() != 0  this line is not necessary\n",
    "        answer = x / y\n",
    "        print(answer)\n",
    "    except:\n",
    "        print(\"dividing by zero -.-\")\n",
    "\n",
    "x = np.array([36, 34, 44, 76, 27])\n",
    "y = np.array([64, 66, 56, 24, 73])\n",
    "divide(x, y)"
   ]
  },
  {
   "cell_type": "code",
   "execution_count": 4,
   "id": "7941d572",
   "metadata": {},
   "outputs": [
    {
     "name": "stdout",
     "output_type": "stream",
     "text": [
      "dividing by zero -.-\n"
     ]
    }
   ],
   "source": [
    "# testing when y = 0 or y contains 0\n",
    "x = 5\n",
    "y = 0\n",
    "\n",
    "def divide(x, y):\n",
    "    try:\n",
    "        # y.all() != 0  this line is not necessary\n",
    "        answer = x / y\n",
    "        print(answer)\n",
    "    except:\n",
    "        print(\"dividing by zero -.-\")\n",
    "        \n",
    "divide(x, y)"
   ]
  },
  {
   "cell_type": "code",
   "execution_count": 5,
   "id": "5e514379",
   "metadata": {},
   "outputs": [],
   "source": [
    "# previous answer\n",
    "\n",
    "#def divide(x, y):\n",
    "#    try:\n",
    "#        y.all() != 0\n",
    "#        answer = x / y\n",
    "#        print(answer)\n",
    "#    except:\n",
    "#        print(\"dividing by zero -.-\")\n",
    "\n",
    "#x = np.array([36, 34, 44, 76, 27])\n",
    "#y = np.array([64, 0, 56, 24, 73])\n",
    "#divide(x, y)"
   ]
  }
 ],
 "metadata": {
  "kernelspec": {
   "display_name": "Python 3 (ipykernel)",
   "language": "python",
   "name": "python3"
  },
  "language_info": {
   "codemirror_mode": {
    "name": "ipython",
    "version": 3
   },
   "file_extension": ".py",
   "mimetype": "text/x-python",
   "name": "python",
   "nbconvert_exporter": "python",
   "pygments_lexer": "ipython3",
   "version": "3.10.8"
  },
  "toc": {
   "base_numbering": 1,
   "nav_menu": {},
   "number_sections": true,
   "sideBar": true,
   "skip_h1_title": false,
   "title_cell": "Table of Contents",
   "title_sidebar": "Contents",
   "toc_cell": false,
   "toc_position": {},
   "toc_section_display": true,
   "toc_window_display": false
  },
  "varInspector": {
   "cols": {
    "lenName": 16,
    "lenType": 16,
    "lenVar": 40
   },
   "kernels_config": {
    "python": {
     "delete_cmd_postfix": "",
     "delete_cmd_prefix": "del ",
     "library": "var_list.py",
     "varRefreshCmd": "print(var_dic_list())"
    },
    "r": {
     "delete_cmd_postfix": ") ",
     "delete_cmd_prefix": "rm(",
     "library": "var_list.r",
     "varRefreshCmd": "cat(var_dic_list()) "
    }
   },
   "types_to_exclude": [
    "module",
    "function",
    "builtin_function_or_method",
    "instance",
    "_Feature"
   ],
   "window_display": false
  },
  "vscode": {
   "interpreter": {
    "hash": "31f2aee4e71d21fbe5cf8b01ff0e069b9275f58929596ceb00d14d90e3e16cd6"
   }
  }
 },
 "nbformat": 4,
 "nbformat_minor": 5
}
