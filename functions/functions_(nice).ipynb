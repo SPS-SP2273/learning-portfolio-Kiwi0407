{
 "cells": [
  {
   "cell_type": "markdown",
   "id": "123456",
   "metadata": {},
   "source": [
    "<div style=\"text-align:left;font-size:2em\"><span style=\"font-weight:bolder;font-size:1.25em\">SP2273 | Learning Portfolio</span><br><br><span style=\"font-weight:bold;color:darkred\">Functions (Nice)</span></div>"
   ]
  },
  {
   "cell_type": "markdown",
   "id": "e26b6a4f",
   "metadata": {},
   "source": [
    "## 1 Other things you can do with functions"
   ]
  },
  {
   "cell_type": "markdown",
   "id": "20cc2013",
   "metadata": {},
   "source": [
    "### 1.1 Modularise and reuse"
   ]
  },
  {
   "cell_type": "code",
   "execution_count": null,
   "id": "214f8df2",
   "metadata": {},
   "outputs": [],
   "source": [
    "# Your code here\n",
    "# reuse functions between projects\n",
    "# place in separate file and importing like standard packages\n",
    "# useful if it is uesd often "
   ]
  },
  {
   "cell_type": "markdown",
   "id": "6c01fe51",
   "metadata": {},
   "source": [
    "## 2 *args & **kwarg"
   ]
  },
  {
   "cell_type": "code",
   "execution_count": 1,
   "id": "92b62b4e",
   "metadata": {},
   "outputs": [],
   "source": [
    "# syntax:\n",
    "# arguments *args\n",
    "# keyword arguments **kwarg"
   ]
  },
  {
   "cell_type": "markdown",
   "id": "5b919f1c",
   "metadata": {},
   "source": [
    "### 2.1 *args"
   ]
  },
  {
   "cell_type": "code",
   "execution_count": 2,
   "id": "457ad403",
   "metadata": {},
   "outputs": [
    {
     "data": {
      "text/plain": [
       "2"
      ]
     },
     "execution_count": 2,
     "metadata": {},
     "output_type": "execute_result"
    }
   ],
   "source": [
    "# Your code here\n",
    "# example 1\n",
    "\n",
    "def multiply(x, y):\n",
    "    return x * y\n",
    "\n",
    "numbers = [1, 2]\n",
    "multiply(*numbers)"
   ]
  },
  {
   "cell_type": "code",
   "execution_count": 3,
   "id": "9a8d61d2",
   "metadata": {},
   "outputs": [
    {
     "data": {
      "text/plain": [
       "6"
      ]
     },
     "execution_count": 3,
     "metadata": {},
     "output_type": "execute_result"
    }
   ],
   "source": [
    "# example 2\n",
    "# use one function to multiply more than two numbers\n",
    "\n",
    "def multiply(*args):\n",
    "    result = 1\n",
    "    for number in args:\n",
    "        result *= number\n",
    "\n",
    "    return result\n",
    "\n",
    "numbers = [1, 2, 3]\n",
    "multiply(*numbers)"
   ]
  },
  {
   "cell_type": "code",
   "execution_count": 4,
   "id": "ea713aa3",
   "metadata": {},
   "outputs": [
    {
     "data": {
      "text/plain": [
       "120"
      ]
     },
     "execution_count": 4,
     "metadata": {},
     "output_type": "execute_result"
    }
   ],
   "source": [
    "multiply(1, 2, 3, 4, 5)"
   ]
  },
  {
   "cell_type": "markdown",
   "id": "896dc1c1",
   "metadata": {},
   "source": [
    "### 2.2 **kwargs"
   ]
  },
  {
   "cell_type": "code",
   "execution_count": 5,
   "id": "ae9a4af5",
   "metadata": {},
   "outputs": [
    {
     "data": {
      "text/plain": [
       "6"
      ]
     },
     "execution_count": 5,
     "metadata": {},
     "output_type": "execute_result"
    }
   ],
   "source": [
    "# Your code here\n",
    "# keyword arguments using a dictionary\n",
    "# example 1\n",
    "\n",
    "def multiply(x, y, z):\n",
    "    return x * y * z\n",
    "\n",
    "# Let's use the function\n",
    "numbers = {'x': 1, 'y': 2, 'z': 3}\n",
    "multiply(**numbers)"
   ]
  },
  {
   "cell_type": "code",
   "execution_count": 6,
   "id": "0d44dc0b",
   "metadata": {},
   "outputs": [
    {
     "data": {
      "text/plain": [
       "6"
      ]
     },
     "execution_count": 6,
     "metadata": {},
     "output_type": "execute_result"
    }
   ],
   "source": [
    "# example 2\n",
    "# mixing positional arguments and a dictionary\n",
    "\n",
    "def multiply(x, y, z):\n",
    "    return x * y * z\n",
    "\n",
    "# Let's use the function\n",
    "numbers = {'y': 2, 'z': 3}\n",
    "multiply(1, **numbers)"
   ]
  },
  {
   "cell_type": "code",
   "execution_count": 7,
   "id": "58a81b06",
   "metadata": {},
   "outputs": [
    {
     "data": {
      "text/plain": [
       "36"
      ]
     },
     "execution_count": 7,
     "metadata": {},
     "output_type": "execute_result"
    }
   ],
   "source": [
    "# example 3\n",
    "\n",
    "def add_powers(numbers, power):\n",
    "    result = 1\n",
    "    for number in numbers:\n",
    "        result *= number**power\n",
    "\n",
    "    return result\n",
    "\n",
    "# Let's use the function\n",
    "kwargs = {'numbers': [1, 2, 3], 'power': 2}\n",
    "add_powers(**kwargs)"
   ]
  },
  {
   "cell_type": "code",
   "execution_count": 8,
   "id": "d45484be",
   "metadata": {},
   "outputs": [
    {
     "data": {
      "text/plain": [
       "36"
      ]
     },
     "execution_count": 8,
     "metadata": {},
     "output_type": "execute_result"
    }
   ],
   "source": [
    "# example 4\n",
    "# function that accepts any keyword arguments\n",
    "\n",
    "def add_powers(**kwargs):\n",
    "    numbers = kwargs['numbers']\n",
    "    power = kwargs['power']\n",
    "\n",
    "    result = 1\n",
    "    for number in numbers:\n",
    "        result *= number**power\n",
    "\n",
    "    return result\n",
    "\n",
    "\n",
    "# Let's use the function\n",
    "add_powers(numbers=[1, 2, 3], power=2)"
   ]
  },
  {
   "cell_type": "markdown",
   "id": "63ccdb6a",
   "metadata": {},
   "source": [
    "### 2.3 Passing variable to functions"
   ]
  },
  {
   "cell_type": "code",
   "execution_count": 1,
   "id": "c7a69486",
   "metadata": {},
   "outputs": [
    {
     "name": "stdout",
     "output_type": "stream",
     "text": [
      "BEFORE\t--->\tNumber: 10, Array: [10], List: [10]\n"
     ]
    }
   ],
   "source": [
    "# Your code here\n",
    "def do_something(inside_number, inside_array, inside_list):\n",
    "    print('Doing something!')\n",
    "    inside_number *= 2\n",
    "    inside_array *= 2\n",
    "    inside_list *= 2\n",
    "\n",
    "outside_number=10\n",
    "outside_array=np.array([10])\n",
    "outside_list=[10]\n",
    "\n",
    "print(\n",
    "    f\"BEFORE\\t--->\\tNumber: {outside_number}, Array: {outside_array}, List: {outside_list}\")"
   ]
  },
  {
   "cell_type": "code",
   "execution_count": 2,
   "id": "4aed5a01",
   "metadata": {},
   "outputs": [
    {
     "name": "stdout",
     "output_type": "stream",
     "text": [
      "Doing something!\n"
     ]
    }
   ],
   "source": [
    "do_something(outside_number, outside_list, outside_array)"
   ]
  },
  {
   "cell_type": "code",
   "execution_count": 3,
   "id": "a4a37f8d",
   "metadata": {},
   "outputs": [
    {
     "name": "stdout",
     "output_type": "stream",
     "text": [
      "AFTER\t--->\tNumber: 10, Array: [20], List: [10, 10]\n"
     ]
    }
   ],
   "source": [
    "print(\n",
    "    f\"AFTER\\t--->\\tNumber: {outside_number}, Array: {outside_array}, List: {outside_list}\")"
   ]
  },
  {
   "cell_type": "code",
   "execution_count": null,
   "id": "ed8e635e",
   "metadata": {},
   "outputs": [],
   "source": [
    "# 'immutable' variables\n",
    "# what happens inside function does not change variable outside\n",
    "# known as passing by value\n",
    "\n",
    "# 'mutable' variables\n",
    "# what happens inside function does change variable outside\n",
    "# known as passing by reference"
   ]
  },
  {
   "cell_type": "markdown",
   "id": "bb15cb69",
   "metadata": {},
   "source": [
    "## 3 There is more to exceptions"
   ]
  },
  {
   "cell_type": "markdown",
   "id": "6a5e226f",
   "metadata": {},
   "source": [
    "### 3.1 A list of exceptions"
   ]
  },
  {
   "cell_type": "code",
   "execution_count": null,
   "id": "04494c32",
   "metadata": {},
   "outputs": [],
   "source": [
    "\n",
    "# Your code here\n"
   ]
  },
  {
   "cell_type": "markdown",
   "id": "c67ad932",
   "metadata": {},
   "source": [
    "### 3.2 Handling specific exceptions"
   ]
  },
  {
   "cell_type": "code",
   "execution_count": 4,
   "id": "51c3abe0",
   "metadata": {},
   "outputs": [
    {
     "name": "stdout",
     "output_type": "stream",
     "text": [
      "Give me a number and I will calculate its square.2\n",
      "The square of 2 is 4!\n"
     ]
    }
   ],
   "source": [
    "# Your code here\n",
    "try:\n",
    "    number=input(\"Give me a number and I will calculate its square.\")\n",
    "    square=int(number)**2\n",
    "    print(f'The square of {number} is {square}!')\n",
    "except ValueError:\n",
    "    print(f\"Oh oh! I cannot square {number}!\")"
   ]
  },
  {
   "cell_type": "markdown",
   "id": "9dd0c636",
   "metadata": {},
   "source": [
    "### 3.3 try also has an else"
   ]
  },
  {
   "cell_type": "code",
   "execution_count": 5,
   "id": "bdfba67d",
   "metadata": {},
   "outputs": [
    {
     "name": "stdout",
     "output_type": "stream",
     "text": [
      "Give me a number and I will calculate its square.3\n",
      "The square of 3 is 9!\n",
      "Yeah! Things ran without a problem!\n"
     ]
    }
   ],
   "source": [
    "# Your code here\n",
    "try:\n",
    "    number=input(\"Give me a number and I will calculate its square.\")\n",
    "    square=int(number)**2\n",
    "    print(f'The square of {number} is {square}!')\n",
    "except ValueError:\n",
    "    print(f\"Oh oh! I cannot square {number}!\")\n",
    "else:\n",
    "    print('Yeah! Things ran without a problem!')"
   ]
  },
  {
   "cell_type": "markdown",
   "id": "9d987a68",
   "metadata": {},
   "source": [
    "## Explore 1 :  Modularise"
   ]
  },
  {
   "cell_type": "markdown",
   "id": "6600d369",
   "metadata": {},
   "source": [
    "## Explore 2 :  Angles and trig functions"
   ]
  }
 ],
 "metadata": {
  "kernelspec": {
   "display_name": "Python 3 (ipykernel)",
   "language": "python",
   "name": "python3"
  },
  "language_info": {
   "codemirror_mode": {
    "name": "ipython",
    "version": 3
   },
   "file_extension": ".py",
   "mimetype": "text/x-python",
   "name": "python",
   "nbconvert_exporter": "python",
   "pygments_lexer": "ipython3",
   "version": "3.10.8"
  },
  "toc": {
   "base_numbering": 1,
   "nav_menu": {},
   "number_sections": true,
   "sideBar": true,
   "skip_h1_title": false,
   "title_cell": "Table of Contents",
   "title_sidebar": "Contents",
   "toc_cell": false,
   "toc_position": {},
   "toc_section_display": true,
   "toc_window_display": false
  },
  "varInspector": {
   "cols": {
    "lenName": 16,
    "lenType": 16,
    "lenVar": 40
   },
   "kernels_config": {
    "python": {
     "delete_cmd_postfix": "",
     "delete_cmd_prefix": "del ",
     "library": "var_list.py",
     "varRefreshCmd": "print(var_dic_list())"
    },
    "r": {
     "delete_cmd_postfix": ") ",
     "delete_cmd_prefix": "rm(",
     "library": "var_list.r",
     "varRefreshCmd": "cat(var_dic_list()) "
    }
   },
   "types_to_exclude": [
    "module",
    "function",
    "builtin_function_or_method",
    "instance",
    "_Feature"
   ],
   "window_display": false
  },
  "vscode": {
   "interpreter": {
    "hash": "31f2aee4e71d21fbe5cf8b01ff0e069b9275f58929596ceb00d14d90e3e16cd6"
   }
  }
 },
 "nbformat": 4,
 "nbformat_minor": 5
}
